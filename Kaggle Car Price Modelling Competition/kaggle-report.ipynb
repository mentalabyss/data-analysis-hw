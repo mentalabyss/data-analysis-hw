{
 "cells": [
  {
   "cell_type": "markdown",
   "metadata": {},
   "source": [
    "<h1><center>Data Analysis</center></h1>\n",
    "<h2><center>Kaggle report notebook</center></h2>"
   ]
  },
  {
   "cell_type": "code",
   "execution_count": 1,
   "metadata": {},
   "outputs": [],
   "source": [
    "import pandas as pd\n",
    "import numpy as np\n",
    "import matplotlib.pyplot as plt\n",
    "import scipy\n",
    "\n",
    "%matplotlib inline\n",
    "\n",
    "plt.style.use('ggplot')\n",
    "plt.rcParams['figure.figsize'] = (12,8)"
   ]
  },
  {
   "cell_type": "code",
   "execution_count": 2,
   "metadata": {},
   "outputs": [],
   "source": [
    "from sklearn.linear_model import LinearRegression, Ridge\n",
    "from sklearn.preprocessing import MinMaxScaler\n",
    "from sklearn.preprocessing import OneHotEncoder\n",
    "from sklearn.pipeline import Pipeline\n",
    "from sklearn.compose import ColumnTransformer\n",
    "from sklearn.impute import SimpleImputer\n",
    "from sklearn.model_selection import RandomizedSearchCV, KFold"
   ]
  },
  {
   "cell_type": "markdown",
   "metadata": {},
   "source": [
    "# Introduce yourself"
   ]
  },
  {
   "cell_type": "markdown",
   "metadata": {},
   "source": [
    "Put your team name and team-members' names below"
   ]
  },
  {
   "cell_type": "markdown",
   "metadata": {},
   "source": [
    "Zhanibek Taubaldiyev<br />\n",
    "Alexander Tsay<br />\n",
    "Denis Kumar<br />\n",
    "Dmitriy Dolgosheyev"
   ]
  },
  {
   "cell_type": "markdown",
   "metadata": {},
   "source": [
    "# Task"
   ]
  },
  {
   "cell_type": "markdown",
   "metadata": {},
   "source": [
    "In this task we are working with posts on famous russian advertisement and resell platform.\n",
    "\n",
    "Given the information about the post and corresponding item you have to estimate its probability to be sold in 3 days.\n",
    "\n",
    "Below you will find some desirable stages of your report."
   ]
  },
  {
   "cell_type": "markdown",
   "metadata": {},
   "source": [
    "# Data Loading"
   ]
  },
  {
   "cell_type": "code",
   "execution_count": 3,
   "metadata": {},
   "outputs": [],
   "source": [
    "df_train = pd.read_csv('train_data.tsv.gz', sep='\\t', index_col=0)\n",
    "df_test = pd.read_csv('test_data.tsv.gz', sep='\\t', index_col=0)"
   ]
  },
  {
   "cell_type": "code",
   "execution_count": 4,
   "metadata": {},
   "outputs": [
    {
     "data": {
      "text/html": [
       "<div>\n",
       "<style scoped>\n",
       "    .dataframe tbody tr th:only-of-type {\n",
       "        vertical-align: middle;\n",
       "    }\n",
       "\n",
       "    .dataframe tbody tr th {\n",
       "        vertical-align: top;\n",
       "    }\n",
       "\n",
       "    .dataframe thead th {\n",
       "        text-align: right;\n",
       "    }\n",
       "</style>\n",
       "<table border=\"1\" class=\"dataframe\">\n",
       "  <thead>\n",
       "    <tr style=\"text-align: right;\">\n",
       "      <th></th>\n",
       "      <th>city</th>\n",
       "      <th>price</th>\n",
       "      <th>brand</th>\n",
       "      <th>model</th>\n",
       "      <th>drive_type</th>\n",
       "      <th>engine_summary</th>\n",
       "      <th>owner_type</th>\n",
       "      <th>generation</th>\n",
       "      <th>year</th>\n",
       "      <th>color</th>\n",
       "      <th>body</th>\n",
       "      <th>gear_type</th>\n",
       "      <th>wheel_type</th>\n",
       "      <th>state</th>\n",
       "      <th>is_new</th>\n",
       "      <th>doors_count</th>\n",
       "      <th>mileage</th>\n",
       "      <th>owners_by_pts</th>\n",
       "    </tr>\n",
       "    <tr>\n",
       "      <th>id</th>\n",
       "      <th></th>\n",
       "      <th></th>\n",
       "      <th></th>\n",
       "      <th></th>\n",
       "      <th></th>\n",
       "      <th></th>\n",
       "      <th></th>\n",
       "      <th></th>\n",
       "      <th></th>\n",
       "      <th></th>\n",
       "      <th></th>\n",
       "      <th></th>\n",
       "      <th></th>\n",
       "      <th></th>\n",
       "      <th></th>\n",
       "      <th></th>\n",
       "      <th></th>\n",
       "      <th></th>\n",
       "    </tr>\n",
       "  </thead>\n",
       "  <tbody>\n",
       "    <tr>\n",
       "      <th>9cbd65bfd61bc7405d6866a5</th>\n",
       "      <td>Советск</td>\n",
       "      <td>40000.0</td>\n",
       "      <td>ВАЗ (Lada)</td>\n",
       "      <td>2105</td>\n",
       "      <td>Задний</td>\n",
       "      <td>1.5 л / 71 л.с. / Бензиновый</td>\n",
       "      <td>Частники</td>\n",
       "      <td>1 поколение</td>\n",
       "      <td>1999</td>\n",
       "      <td>Фиолетовый</td>\n",
       "      <td>Седан</td>\n",
       "      <td>Механика</td>\n",
       "      <td>Левый</td>\n",
       "      <td>Хорошее</td>\n",
       "      <td>Нет</td>\n",
       "      <td>5.0</td>\n",
       "      <td>178000.0</td>\n",
       "      <td>3.0</td>\n",
       "    </tr>\n",
       "    <tr>\n",
       "      <th>5d6fa4d552284029123966a5</th>\n",
       "      <td>Москва</td>\n",
       "      <td>105000.0</td>\n",
       "      <td>ВАЗ (Lada)</td>\n",
       "      <td>2114</td>\n",
       "      <td>Передний</td>\n",
       "      <td>1.5 л / 77 л.с. / Бензиновый</td>\n",
       "      <td>Частники</td>\n",
       "      <td>1 поколение</td>\n",
       "      <td>2006</td>\n",
       "      <td>Голубой</td>\n",
       "      <td>Хетчбэк</td>\n",
       "      <td>Механика</td>\n",
       "      <td>Левый</td>\n",
       "      <td>Хорошее</td>\n",
       "      <td>Нет</td>\n",
       "      <td>5.0</td>\n",
       "      <td>200000.0</td>\n",
       "      <td>2.0</td>\n",
       "    </tr>\n",
       "    <tr>\n",
       "      <th>52fd95e853654e3c4d7966a5</th>\n",
       "      <td>Александров</td>\n",
       "      <td>650000.0</td>\n",
       "      <td>Cadillac</td>\n",
       "      <td>SRX</td>\n",
       "      <td>Полный</td>\n",
       "      <td>3.6 л / 258 л.с. / Бензиновый</td>\n",
       "      <td>Частники</td>\n",
       "      <td>1 поколение</td>\n",
       "      <td>2008</td>\n",
       "      <td>Синий</td>\n",
       "      <td>Кроссовер</td>\n",
       "      <td>Автомат</td>\n",
       "      <td>Левый</td>\n",
       "      <td>Не битый</td>\n",
       "      <td>Нет</td>\n",
       "      <td>5.0</td>\n",
       "      <td>185000.0</td>\n",
       "      <td>3.0</td>\n",
       "    </tr>\n",
       "    <tr>\n",
       "      <th>beb7c749571bc740820038a5</th>\n",
       "      <td>Новокуйбышевск</td>\n",
       "      <td>400000.0</td>\n",
       "      <td>Chevrolet</td>\n",
       "      <td>Lacetti</td>\n",
       "      <td>Передний</td>\n",
       "      <td>1.6 л / 109 л.с. / Бензиновый</td>\n",
       "      <td>Частники</td>\n",
       "      <td>1 поколение</td>\n",
       "      <td>2013</td>\n",
       "      <td>Красный</td>\n",
       "      <td>Седан</td>\n",
       "      <td>Механика</td>\n",
       "      <td>Левый</td>\n",
       "      <td>Не битый</td>\n",
       "      <td>Нет</td>\n",
       "      <td>4.0</td>\n",
       "      <td>59000.0</td>\n",
       "      <td>1.0</td>\n",
       "    </tr>\n",
       "    <tr>\n",
       "      <th>34d7824a60964435b93c68a5</th>\n",
       "      <td>Москва</td>\n",
       "      <td>1000000.0</td>\n",
       "      <td>Jeep</td>\n",
       "      <td>Commander</td>\n",
       "      <td>Полный</td>\n",
       "      <td>3 л / 218 л.с. / Дизельный</td>\n",
       "      <td>Частники</td>\n",
       "      <td>1 поколение</td>\n",
       "      <td>2008</td>\n",
       "      <td>Черный</td>\n",
       "      <td>Внедорожник</td>\n",
       "      <td>Автомат</td>\n",
       "      <td>Левый</td>\n",
       "      <td>Не битый</td>\n",
       "      <td>Нет</td>\n",
       "      <td>5.0</td>\n",
       "      <td>200000.0</td>\n",
       "      <td>2.0</td>\n",
       "    </tr>\n",
       "    <tr>\n",
       "      <th>...</th>\n",
       "      <td>...</td>\n",
       "      <td>...</td>\n",
       "      <td>...</td>\n",
       "      <td>...</td>\n",
       "      <td>...</td>\n",
       "      <td>...</td>\n",
       "      <td>...</td>\n",
       "      <td>...</td>\n",
       "      <td>...</td>\n",
       "      <td>...</td>\n",
       "      <td>...</td>\n",
       "      <td>...</td>\n",
       "      <td>...</td>\n",
       "      <td>...</td>\n",
       "      <td>...</td>\n",
       "      <td>...</td>\n",
       "      <td>...</td>\n",
       "      <td>...</td>\n",
       "    </tr>\n",
       "    <tr>\n",
       "      <th>3bebe572d5ab5606c5846fd5</th>\n",
       "      <td>Балашиха</td>\n",
       "      <td>327000.0</td>\n",
       "      <td>ВАЗ (Lada)</td>\n",
       "      <td>Granta</td>\n",
       "      <td>Передний</td>\n",
       "      <td>1.6 л / 87 л.с. / Бензиновый</td>\n",
       "      <td>Частники</td>\n",
       "      <td>1 поколение</td>\n",
       "      <td>2015</td>\n",
       "      <td>Черный</td>\n",
       "      <td>Лифтбэк</td>\n",
       "      <td>Механика</td>\n",
       "      <td>Левый</td>\n",
       "      <td>Не битый</td>\n",
       "      <td>Нет</td>\n",
       "      <td>5.0</td>\n",
       "      <td>26000.0</td>\n",
       "      <td>1.0</td>\n",
       "    </tr>\n",
       "    <tr>\n",
       "      <th>311871e2a71bc740dc356fd5</th>\n",
       "      <td>Дагестанские Огни</td>\n",
       "      <td>35000.0</td>\n",
       "      <td>ВАЗ (Lada)</td>\n",
       "      <td>2110</td>\n",
       "      <td>Передний</td>\n",
       "      <td>1.5 л / 71 л.с. / Бензиновый</td>\n",
       "      <td>Частники</td>\n",
       "      <td>1 поколение</td>\n",
       "      <td>2000</td>\n",
       "      <td>Белый</td>\n",
       "      <td>Седан</td>\n",
       "      <td>Механика</td>\n",
       "      <td>Левый</td>\n",
       "      <td>Среднее</td>\n",
       "      <td>Нет</td>\n",
       "      <td>4.0</td>\n",
       "      <td>250628.0</td>\n",
       "      <td>5.0</td>\n",
       "    </tr>\n",
       "    <tr>\n",
       "      <th>37e2562ad78bf5750c586fd5</th>\n",
       "      <td>Энгельс</td>\n",
       "      <td>35000.0</td>\n",
       "      <td>ВАЗ (Lada)</td>\n",
       "      <td>2107</td>\n",
       "      <td>Задний</td>\n",
       "      <td>1.6 л / 73 л.с. / Бензиновый</td>\n",
       "      <td>Частники</td>\n",
       "      <td>1 поколение</td>\n",
       "      <td>2005</td>\n",
       "      <td>Белый</td>\n",
       "      <td>Седан</td>\n",
       "      <td>Механика</td>\n",
       "      <td>Левый</td>\n",
       "      <td>Хорошее</td>\n",
       "      <td>Нет</td>\n",
       "      <td>4.0</td>\n",
       "      <td>90000.0</td>\n",
       "      <td>4.0</td>\n",
       "    </tr>\n",
       "    <tr>\n",
       "      <th>3ca325dd8af2e08aa0b47fd5</th>\n",
       "      <td>Москва</td>\n",
       "      <td>2095000.0</td>\n",
       "      <td>Mitsubishi</td>\n",
       "      <td>Pajero Sport</td>\n",
       "      <td>Полный</td>\n",
       "      <td>2.4 л / 181 л.с. / Дизельный</td>\n",
       "      <td>Дилеры</td>\n",
       "      <td>3 поколение</td>\n",
       "      <td>2018</td>\n",
       "      <td>Белый</td>\n",
       "      <td>Внедорожник</td>\n",
       "      <td>Автомат</td>\n",
       "      <td>Левый</td>\n",
       "      <td>NaN</td>\n",
       "      <td>Нет</td>\n",
       "      <td>5.0</td>\n",
       "      <td>11056.0</td>\n",
       "      <td>2.0</td>\n",
       "    </tr>\n",
       "    <tr>\n",
       "      <th>3723613653654e3c36667fd5</th>\n",
       "      <td>Казань</td>\n",
       "      <td>699000.0</td>\n",
       "      <td>Nissan</td>\n",
       "      <td>X-Trail</td>\n",
       "      <td>Полный подключаемый</td>\n",
       "      <td>2 л / 141 л.с. / Бензиновый</td>\n",
       "      <td>Дилеры</td>\n",
       "      <td>T31 [рестайлинг]</td>\n",
       "      <td>2011</td>\n",
       "      <td>Серебряный</td>\n",
       "      <td>Кроссовер</td>\n",
       "      <td>Вариатор</td>\n",
       "      <td>Левый</td>\n",
       "      <td>Не битый</td>\n",
       "      <td>Нет</td>\n",
       "      <td>5.0</td>\n",
       "      <td>127616.0</td>\n",
       "      <td>1.0</td>\n",
       "    </tr>\n",
       "  </tbody>\n",
       "</table>\n",
       "<p>89959 rows × 18 columns</p>\n",
       "</div>"
      ],
      "text/plain": [
       "                                       city      price       brand  \\\n",
       "id                                                                   \n",
       "9cbd65bfd61bc7405d6866a5            Советск    40000.0  ВАЗ (Lada)   \n",
       "5d6fa4d552284029123966a5             Москва   105000.0  ВАЗ (Lada)   \n",
       "52fd95e853654e3c4d7966a5        Александров   650000.0    Cadillac   \n",
       "beb7c749571bc740820038a5     Новокуйбышевск   400000.0   Chevrolet   \n",
       "34d7824a60964435b93c68a5             Москва  1000000.0        Jeep   \n",
       "...                                     ...        ...         ...   \n",
       "3bebe572d5ab5606c5846fd5           Балашиха   327000.0  ВАЗ (Lada)   \n",
       "311871e2a71bc740dc356fd5  Дагестанские Огни    35000.0  ВАЗ (Lada)   \n",
       "37e2562ad78bf5750c586fd5            Энгельс    35000.0  ВАЗ (Lada)   \n",
       "3ca325dd8af2e08aa0b47fd5             Москва  2095000.0  Mitsubishi   \n",
       "3723613653654e3c36667fd5             Казань   699000.0      Nissan   \n",
       "\n",
       "                                 model           drive_type  \\\n",
       "id                                                            \n",
       "9cbd65bfd61bc7405d6866a5          2105               Задний   \n",
       "5d6fa4d552284029123966a5          2114             Передний   \n",
       "52fd95e853654e3c4d7966a5           SRX               Полный   \n",
       "beb7c749571bc740820038a5       Lacetti             Передний   \n",
       "34d7824a60964435b93c68a5     Commander               Полный   \n",
       "...                                ...                  ...   \n",
       "3bebe572d5ab5606c5846fd5        Granta             Передний   \n",
       "311871e2a71bc740dc356fd5          2110             Передний   \n",
       "37e2562ad78bf5750c586fd5          2107               Задний   \n",
       "3ca325dd8af2e08aa0b47fd5  Pajero Sport               Полный   \n",
       "3723613653654e3c36667fd5       X-Trail  Полный подключаемый   \n",
       "\n",
       "                                         engine_summary owner_type  \\\n",
       "id                                                                   \n",
       "9cbd65bfd61bc7405d6866a5   1.5 л / 71 л.с. / Бензиновый   Частники   \n",
       "5d6fa4d552284029123966a5   1.5 л / 77 л.с. / Бензиновый   Частники   \n",
       "52fd95e853654e3c4d7966a5  3.6 л / 258 л.с. / Бензиновый   Частники   \n",
       "beb7c749571bc740820038a5  1.6 л / 109 л.с. / Бензиновый   Частники   \n",
       "34d7824a60964435b93c68a5     3 л / 218 л.с. / Дизельный   Частники   \n",
       "...                                                 ...        ...   \n",
       "3bebe572d5ab5606c5846fd5   1.6 л / 87 л.с. / Бензиновый   Частники   \n",
       "311871e2a71bc740dc356fd5   1.5 л / 71 л.с. / Бензиновый   Частники   \n",
       "37e2562ad78bf5750c586fd5   1.6 л / 73 л.с. / Бензиновый   Частники   \n",
       "3ca325dd8af2e08aa0b47fd5   2.4 л / 181 л.с. / Дизельный     Дилеры   \n",
       "3723613653654e3c36667fd5    2 л / 141 л.с. / Бензиновый     Дилеры   \n",
       "\n",
       "                                generation  year       color         body  \\\n",
       "id                                                                          \n",
       "9cbd65bfd61bc7405d6866a5       1 поколение  1999  Фиолетовый        Седан   \n",
       "5d6fa4d552284029123966a5       1 поколение  2006     Голубой      Хетчбэк   \n",
       "52fd95e853654e3c4d7966a5       1 поколение  2008       Синий    Кроссовер   \n",
       "beb7c749571bc740820038a5       1 поколение  2013     Красный        Седан   \n",
       "34d7824a60964435b93c68a5       1 поколение  2008      Черный  Внедорожник   \n",
       "...                                    ...   ...         ...          ...   \n",
       "3bebe572d5ab5606c5846fd5       1 поколение  2015      Черный      Лифтбэк   \n",
       "311871e2a71bc740dc356fd5       1 поколение  2000       Белый        Седан   \n",
       "37e2562ad78bf5750c586fd5       1 поколение  2005       Белый        Седан   \n",
       "3ca325dd8af2e08aa0b47fd5       3 поколение  2018       Белый  Внедорожник   \n",
       "3723613653654e3c36667fd5  T31 [рестайлинг]  2011  Серебряный    Кроссовер   \n",
       "\n",
       "                         gear_type wheel_type     state is_new  doors_count  \\\n",
       "id                                                                            \n",
       "9cbd65bfd61bc7405d6866a5  Механика      Левый   Хорошее    Нет          5.0   \n",
       "5d6fa4d552284029123966a5  Механика      Левый   Хорошее    Нет          5.0   \n",
       "52fd95e853654e3c4d7966a5   Автомат      Левый  Не битый    Нет          5.0   \n",
       "beb7c749571bc740820038a5  Механика      Левый  Не битый    Нет          4.0   \n",
       "34d7824a60964435b93c68a5   Автомат      Левый  Не битый    Нет          5.0   \n",
       "...                            ...        ...       ...    ...          ...   \n",
       "3bebe572d5ab5606c5846fd5  Механика      Левый  Не битый    Нет          5.0   \n",
       "311871e2a71bc740dc356fd5  Механика      Левый   Среднее    Нет          4.0   \n",
       "37e2562ad78bf5750c586fd5  Механика      Левый   Хорошее    Нет          4.0   \n",
       "3ca325dd8af2e08aa0b47fd5   Автомат      Левый       NaN    Нет          5.0   \n",
       "3723613653654e3c36667fd5  Вариатор      Левый  Не битый    Нет          5.0   \n",
       "\n",
       "                           mileage  owners_by_pts  \n",
       "id                                                 \n",
       "9cbd65bfd61bc7405d6866a5  178000.0            3.0  \n",
       "5d6fa4d552284029123966a5  200000.0            2.0  \n",
       "52fd95e853654e3c4d7966a5  185000.0            3.0  \n",
       "beb7c749571bc740820038a5   59000.0            1.0  \n",
       "34d7824a60964435b93c68a5  200000.0            2.0  \n",
       "...                            ...            ...  \n",
       "3bebe572d5ab5606c5846fd5   26000.0            1.0  \n",
       "311871e2a71bc740dc356fd5  250628.0            5.0  \n",
       "37e2562ad78bf5750c586fd5   90000.0            4.0  \n",
       "3ca325dd8af2e08aa0b47fd5   11056.0            2.0  \n",
       "3723613653654e3c36667fd5  127616.0            1.0  \n",
       "\n",
       "[89959 rows x 18 columns]"
      ]
     },
     "execution_count": 4,
     "metadata": {},
     "output_type": "execute_result"
    }
   ],
   "source": [
    "df_train"
   ]
  },
  {
   "cell_type": "markdown",
   "metadata": {},
   "source": [
    "# Descriptive Data Analysis\n",
    "\n",
    "* Analyze train dataset features\n",
    "    * Provide some meaningful description about corresponding features (in form of pictures or some coefficients)\n",
    "    * Outline any findings you are able to reveal\n",
    "* Try to measure analyse any correspondense between features and target features"
   ]
  },
  {
   "cell_type": "markdown",
   "metadata": {},
   "source": [
    "After an extensive evaluation of available features in the data set we have come to a decision to divide engine_summary into three separate columns of features. We also dropped 'id' column as it does not have any effect on predicted results. 'Price' column is our label vector, so we drop it from X_train as well. "
   ]
  },
  {
   "cell_type": "code",
   "execution_count": 5,
   "metadata": {},
   "outputs": [
    {
     "name": "stderr",
     "output_type": "stream",
     "text": [
      "C:\\Users\\tzhan\\Anaconda3\\lib\\site-packages\\ipykernel_launcher.py:1: FutureWarning: Columnar iteration over characters will be deprecated in future releases.\n",
      "  \"\"\"Entry point for launching an IPython kernel.\n"
     ]
    }
   ],
   "source": [
    "df_train['litres'], df_train['#hrsprs'], df_train['benzo'] = df_train['engine_summary'].str.split('/', 2).str\n",
    "df_train = df_train.drop(['engine_summary'], axis=1)"
   ]
  },
  {
   "cell_type": "code",
   "execution_count": 6,
   "metadata": {},
   "outputs": [],
   "source": [
    "df_train['litres'] = df_train['litres'].str.replace(' л', '')\n",
    "df_train['#hrsprs'] = df_train['#hrsprs'].str.replace(' л.с.', '')"
   ]
  },
  {
   "cell_type": "code",
   "execution_count": 7,
   "metadata": {},
   "outputs": [
    {
     "data": {
      "text/plain": [
       "id\n",
       "9cbd65bfd61bc7405d6866a5              Советск\n",
       "5d6fa4d552284029123966a5               Москва\n",
       "52fd95e853654e3c4d7966a5          Александров\n",
       "beb7c749571bc740820038a5       Новокуйбышевск\n",
       "34d7824a60964435b93c68a5               Москва\n",
       "                                  ...        \n",
       "3bebe572d5ab5606c5846fd5             Балашиха\n",
       "311871e2a71bc740dc356fd5    Дагестанские Огни\n",
       "37e2562ad78bf5750c586fd5              Энгельс\n",
       "3ca325dd8af2e08aa0b47fd5               Москва\n",
       "3723613653654e3c36667fd5               Казань\n",
       "Name: city, Length: 89959, dtype: object"
      ]
     },
     "execution_count": 7,
     "metadata": {},
     "output_type": "execute_result"
    }
   ],
   "source": [
    "df_train[df_train.columns[0]]"
   ]
  },
  {
   "cell_type": "markdown",
   "metadata": {},
   "source": [
    "# Machine-learning pipeline and prediction"
   ]
  },
  {
   "cell_type": "markdown",
   "metadata": {},
   "source": [
    "Here you develop your pipeline, generate features for train and test sets\n",
    "* Your pipeline should be reproducible - make sure you set all `random_states` if needed"
   ]
  },
  {
   "cell_type": "markdown",
   "metadata": {},
   "source": [
    "We tried different scalers in pipeline. The best result was when we used MinMaxScaler. We tried to seperate engine_summary in 3 columns and also we tried to drop engine_summary. When we dropped engine_summary we had a score of approximately 26.5 (using StandardScaler). When we divided endgine_summary it gave us a score of 26.0 with StandardScaler and 25.6 with MinMaxScaler. We also tried CatBoostRegressor with default params and got a score of 34."
   ]
  },
  {
   "cell_type": "code",
   "execution_count": 8,
   "metadata": {},
   "outputs": [],
   "source": [
    "y_train = df_train.loc[:, 'price'].values"
   ]
  },
  {
   "cell_type": "code",
   "execution_count": 9,
   "metadata": {},
   "outputs": [],
   "source": [
    "df_train = df_train.drop(['price'], axis=1)"
   ]
  },
  {
   "cell_type": "code",
   "execution_count": 10,
   "metadata": {},
   "outputs": [],
   "source": [
    "X_train = df_train.values"
   ]
  },
  {
   "cell_type": "code",
   "execution_count": 11,
   "metadata": {},
   "outputs": [
    {
     "data": {
      "text/plain": [
       "Index(['city', 'brand', 'model', 'drive_type', 'owner_type', 'generation',\n",
       "       'year', 'color', 'body', 'gear_type', 'wheel_type', 'state', 'is_new',\n",
       "       'doors_count', 'mileage', 'owners_by_pts', 'litres', '#hrsprs',\n",
       "       'benzo'],\n",
       "      dtype='object')"
      ]
     },
     "execution_count": 11,
     "metadata": {},
     "output_type": "execute_result"
    }
   ],
   "source": [
    "df_train.columns"
   ]
  },
  {
   "cell_type": "code",
   "execution_count": 12,
   "metadata": {},
   "outputs": [],
   "source": [
    "categ = [0, 1, 2, 3, 4, 5, 7, 8, 9, 10, 11, 12, 13, 18] # categorical feauture index\n",
    "categ_preprocess = \\\n",
    "Pipeline([\n",
    "    ('impute', SimpleImputer(strategy='most_frequent')),\n",
    "    ('ohe', OneHotEncoder(handle_unknown='ignore'))    \n",
    "])\n",
    "# firstly - impute missing values\n",
    "# One hot encodding afterwards\n",
    "\n",
    "numeric = [6, 14, 15, 16, 17] # numeric feauture index\n",
    "numeric_preprocess = \\\n",
    "Pipeline([\n",
    "    ('impute', SimpleImputer(strategy='median')),\n",
    "    ('scaler', MinMaxScaler())\n",
    "])\n",
    "# firstly - impute missing values\n",
    "# standart scaling afterwards\n",
    "\n",
    "col_transformer = ColumnTransformer([\n",
    "    ('categorical', categ_preprocess, categ),\n",
    "    ('numeric', numeric_preprocess, numeric),\n",
    "])\n",
    "# combine transformations"
   ]
  },
  {
   "cell_type": "code",
   "execution_count": 13,
   "metadata": {},
   "outputs": [],
   "source": [
    "model = \\\n",
    "Pipeline([\n",
    "    ('preprocess', col_transformer),\n",
    "    ('model', Ridge())\n",
    "])\n",
    "# pipeline with preprocessing and models"
   ]
  },
  {
   "cell_type": "code",
   "execution_count": 14,
   "metadata": {},
   "outputs": [],
   "source": [
    "param_grid = \\\n",
    "{'model__alpha': np.logspace(-3, 3, 100),\n",
    "'preprocess__numeric__impute__strategy': ['mean', 'median']}\n",
    "\n",
    "# setting cv scheme\n",
    "cv = KFold(n_splits=5, shuffle=True, random_state=123)\n",
    "\n",
    "# setting hyperparameter search\n",
    "searcher = \\\n",
    "RandomizedSearchCV(model, param_grid, n_iter=20, cv=cv, \n",
    "                   scoring='neg_mean_squared_error',\n",
    "                   n_jobs=5, refit=True, verbose=2, \n",
    "                   random_state=123)"
   ]
  },
  {
   "cell_type": "code",
   "execution_count": 15,
   "metadata": {},
   "outputs": [
    {
     "name": "stdout",
     "output_type": "stream",
     "text": [
      "Fitting 5 folds for each of 20 candidates, totalling 100 fits\n"
     ]
    },
    {
     "name": "stderr",
     "output_type": "stream",
     "text": [
      "[Parallel(n_jobs=5)]: Using backend LokyBackend with 5 concurrent workers.\n",
      "[Parallel(n_jobs=5)]: Done  31 tasks      | elapsed:  8.2min\n",
      "[Parallel(n_jobs=5)]: Done 100 out of 100 | elapsed: 23.7min finished\n"
     ]
    },
    {
     "data": {
      "text/plain": [
       "RandomizedSearchCV(cv=KFold(n_splits=5, random_state=123, shuffle=True),\n",
       "                   estimator=Pipeline(steps=[('preprocess',\n",
       "                                              ColumnTransformer(transformers=[('categorical',\n",
       "                                                                               Pipeline(steps=[('impute',\n",
       "                                                                                                SimpleImputer(strategy='most_frequent')),\n",
       "                                                                                               ('ohe',\n",
       "                                                                                                OneHotEncoder(handle_unknown='ignore'))]),\n",
       "                                                                               [0,\n",
       "                                                                                1,\n",
       "                                                                                2,\n",
       "                                                                                3,\n",
       "                                                                                4,\n",
       "                                                                                5,\n",
       "                                                                                7,\n",
       "                                                                                8,\n",
       "                                                                                9,\n",
       "                                                                                10,\n",
       "                                                                                11,\n",
       "                                                                                12,\n",
       "                                                                                13,\n",
       "                                                                                18]),\n",
       "                                                                              ('numeric',\n",
       "                                                                               Pipeline(steps=[('impute',\n",
       "                                                                                                Simp...\n",
       "       1.23284674e+02, 1.41747416e+02, 1.62975083e+02, 1.87381742e+02,\n",
       "       2.15443469e+02, 2.47707636e+02, 2.84803587e+02, 3.27454916e+02,\n",
       "       3.76493581e+02, 4.32876128e+02, 4.97702356e+02, 5.72236766e+02,\n",
       "       6.57933225e+02, 7.56463328e+02, 8.69749003e+02, 1.00000000e+03]),\n",
       "                                        'preprocess__numeric__impute__strategy': ['mean',\n",
       "                                                                                  'median']},\n",
       "                   random_state=123, scoring='neg_mean_squared_error',\n",
       "                   verbose=2)"
      ]
     },
     "execution_count": 15,
     "metadata": {},
     "output_type": "execute_result"
    }
   ],
   "source": [
    "searcher.fit(X_train, np.log(y_train+1))"
   ]
  },
  {
   "cell_type": "code",
   "execution_count": 16,
   "metadata": {},
   "outputs": [],
   "source": [
    "best_model = searcher.best_estimator_"
   ]
  },
  {
   "cell_type": "code",
   "execution_count": 17,
   "metadata": {},
   "outputs": [],
   "source": [
    "df_test = pd.read_csv('test_data.tsv.gz', sep='\\t', index_col=0)"
   ]
  },
  {
   "cell_type": "code",
   "execution_count": 18,
   "metadata": {},
   "outputs": [
    {
     "name": "stderr",
     "output_type": "stream",
     "text": [
      "C:\\Users\\tzhan\\Anaconda3\\lib\\site-packages\\ipykernel_launcher.py:1: FutureWarning: Columnar iteration over characters will be deprecated in future releases.\n",
      "  \"\"\"Entry point for launching an IPython kernel.\n"
     ]
    }
   ],
   "source": [
    "df_test['litres'], df_test['#hrsprs'], df_test['benzo'] = df_test['engine_summary'].str.split('/', 2).str\n",
    "df_test = df_test.drop(['engine_summary'], axis=1)\n",
    "df_test['litres'] = df_test['litres'].str.replace(' л', '')\n",
    "df_test['#hrsprs'] = df_test['#hrsprs'].str.replace(' л.с.', '')"
   ]
  },
  {
   "cell_type": "code",
   "execution_count": 19,
   "metadata": {},
   "outputs": [],
   "source": [
    "X_test = df_test.values"
   ]
  },
  {
   "cell_type": "code",
   "execution_count": 20,
   "metadata": {},
   "outputs": [],
   "source": [
    "y_hat = \\\n",
    "np.exp(best_model.predict(X_test))-1"
   ]
  },
  {
   "cell_type": "code",
   "execution_count": 21,
   "metadata": {},
   "outputs": [
    {
     "ename": "KeyError",
     "evalue": "\"['price'] not found in axis\"",
     "output_type": "error",
     "traceback": [
      "\u001b[1;31m---------------------------------------------------------------------------\u001b[0m",
      "\u001b[1;31mKeyError\u001b[0m                                  Traceback (most recent call last)",
      "\u001b[1;32m<ipython-input-21-e8bc4fa399bc>\u001b[0m in \u001b[0;36m<module>\u001b[1;34m\u001b[0m\n\u001b[1;32m----> 1\u001b[1;33m \u001b[0msubmission\u001b[0m \u001b[1;33m=\u001b[0m \u001b[0mdf_test\u001b[0m\u001b[1;33m.\u001b[0m\u001b[0mdrop\u001b[0m\u001b[1;33m(\u001b[0m\u001b[0mlist\u001b[0m\u001b[1;33m(\u001b[0m\u001b[0mdf_test\u001b[0m\u001b[1;33m.\u001b[0m\u001b[0mcolumns\u001b[0m\u001b[1;33m.\u001b[0m\u001b[0mdrop\u001b[0m\u001b[1;33m(\u001b[0m\u001b[1;33m[\u001b[0m\u001b[1;34m'price'\u001b[0m\u001b[1;33m]\u001b[0m\u001b[1;33m)\u001b[0m\u001b[1;33m)\u001b[0m\u001b[1;33m,\u001b[0m \u001b[0maxis\u001b[0m\u001b[1;33m=\u001b[0m\u001b[1;36m1\u001b[0m\u001b[1;33m)\u001b[0m\u001b[1;33m\u001b[0m\u001b[1;33m\u001b[0m\u001b[0m\n\u001b[0m\u001b[0;32m      2\u001b[0m \u001b[0msubmission\u001b[0m\u001b[1;33m.\u001b[0m\u001b[0mloc\u001b[0m\u001b[1;33m[\u001b[0m\u001b[1;33m:\u001b[0m\u001b[1;33m,\u001b[0m \u001b[1;34m'price'\u001b[0m\u001b[1;33m]\u001b[0m \u001b[1;33m=\u001b[0m \u001b[0my_hat\u001b[0m\u001b[1;33m\u001b[0m\u001b[1;33m\u001b[0m\u001b[0m\n",
      "\u001b[1;32m~\\Anaconda3\\lib\\site-packages\\pandas\\core\\indexes\\base.py\u001b[0m in \u001b[0;36mdrop\u001b[1;34m(self, labels, errors)\u001b[0m\n\u001b[0;32m   5016\u001b[0m         \u001b[1;32mif\u001b[0m \u001b[0mmask\u001b[0m\u001b[1;33m.\u001b[0m\u001b[0many\u001b[0m\u001b[1;33m(\u001b[0m\u001b[1;33m)\u001b[0m\u001b[1;33m:\u001b[0m\u001b[1;33m\u001b[0m\u001b[1;33m\u001b[0m\u001b[0m\n\u001b[0;32m   5017\u001b[0m             \u001b[1;32mif\u001b[0m \u001b[0merrors\u001b[0m \u001b[1;33m!=\u001b[0m \u001b[1;34m\"ignore\"\u001b[0m\u001b[1;33m:\u001b[0m\u001b[1;33m\u001b[0m\u001b[1;33m\u001b[0m\u001b[0m\n\u001b[1;32m-> 5018\u001b[1;33m                 \u001b[1;32mraise\u001b[0m \u001b[0mKeyError\u001b[0m\u001b[1;33m(\u001b[0m\u001b[1;34mf\"{labels[mask]} not found in axis\"\u001b[0m\u001b[1;33m)\u001b[0m\u001b[1;33m\u001b[0m\u001b[1;33m\u001b[0m\u001b[0m\n\u001b[0m\u001b[0;32m   5019\u001b[0m             \u001b[0mindexer\u001b[0m \u001b[1;33m=\u001b[0m \u001b[0mindexer\u001b[0m\u001b[1;33m[\u001b[0m\u001b[1;33m~\u001b[0m\u001b[0mmask\u001b[0m\u001b[1;33m]\u001b[0m\u001b[1;33m\u001b[0m\u001b[1;33m\u001b[0m\u001b[0m\n\u001b[0;32m   5020\u001b[0m         \u001b[1;32mreturn\u001b[0m \u001b[0mself\u001b[0m\u001b[1;33m.\u001b[0m\u001b[0mdelete\u001b[0m\u001b[1;33m(\u001b[0m\u001b[0mindexer\u001b[0m\u001b[1;33m)\u001b[0m\u001b[1;33m\u001b[0m\u001b[1;33m\u001b[0m\u001b[0m\n",
      "\u001b[1;31mKeyError\u001b[0m: \"['price'] not found in axis\""
     ]
    }
   ],
   "source": [
    "submission = df_test.drop(list(df_test.columns.drop(['price'])), axis=1)\n",
    "submission.loc[:, 'price'] = y_hat"
   ]
  },
  {
   "cell_type": "code",
   "execution_count": null,
   "metadata": {},
   "outputs": [],
   "source": [
    "submission['id'] = df_test.index"
   ]
  },
  {
   "cell_type": "code",
   "execution_count": null,
   "metadata": {},
   "outputs": [],
   "source": [
    "submission"
   ]
  },
  {
   "cell_type": "code",
   "execution_count": null,
   "metadata": {},
   "outputs": [],
   "source": [
    "columns_titles = [\"id\",\"price\"]\n",
    "submission=submission.reindex(columns=columns_titles)"
   ]
  },
  {
   "cell_type": "code",
   "execution_count": null,
   "metadata": {},
   "outputs": [],
   "source": [
    "submission.to_csv('baseline.csv', index=None)"
   ]
  },
  {
   "cell_type": "markdown",
   "metadata": {},
   "source": [
    "# Model interpretation\n",
    "Try to interpret your model results\n",
    "* What **knowledge** does it reveal?"
   ]
  },
  {
   "cell_type": "code",
   "execution_count": null,
   "metadata": {},
   "outputs": [],
   "source": []
  }
 ],
 "metadata": {
  "kernelspec": {
   "display_name": "Python 3",
   "language": "python",
   "name": "python3"
  },
  "language_info": {
   "codemirror_mode": {
    "name": "ipython",
    "version": 3
   },
   "file_extension": ".py",
   "mimetype": "text/x-python",
   "name": "python",
   "nbconvert_exporter": "python",
   "pygments_lexer": "ipython3",
   "version": "3.7.4"
  },
  "toc": {
   "base_numbering": 1,
   "nav_menu": {},
   "number_sections": true,
   "sideBar": true,
   "skip_h1_title": false,
   "title_cell": "Table of Contents",
   "title_sidebar": "Contents",
   "toc_cell": false,
   "toc_position": {},
   "toc_section_display": true,
   "toc_window_display": false
  }
 },
 "nbformat": 4,
 "nbformat_minor": 2
}
