{
 "cells": [
  {
   "cell_type": "markdown",
   "metadata": {},
   "source": [
    "<center><img src=\"img/logo_hse_black.jpg\"></center>\n",
    "\n",
    "<h1><center>Data Analysis</center></h1>\n",
    "<h2><center>Seminar: Ensemble Learning. </center></h2>"
   ]
  },
  {
   "cell_type": "code",
   "execution_count": 83,
   "metadata": {},
   "outputs": [],
   "source": [
    "%matplotlib inline\n",
    "\n",
    "import numpy as np\n",
    "import pandas as pd\n",
    "import matplotlib.pyplot as plt"
   ]
  },
  {
   "cell_type": "markdown",
   "metadata": {},
   "source": [
    "# Read Data"
   ]
  },
  {
   "cell_type": "code",
   "execution_count": 84,
   "metadata": {},
   "outputs": [],
   "source": [
    "df_X = pd.read_csv('x_train.csv', sep=';')\n",
    "df_y = pd.read_csv('y_train.csv', sep=';', header=None, names=['target'])"
   ]
  },
  {
   "cell_type": "code",
   "execution_count": 85,
   "metadata": {},
   "outputs": [],
   "source": [
    "X = df_X.values\n",
    "y = df_y['target'].values"
   ]
  },
  {
   "cell_type": "code",
   "execution_count": 86,
   "metadata": {},
   "outputs": [
    {
     "name": "stdout",
     "output_type": "stream",
     "text": [
      "X shape:  (25289, 12)\n"
     ]
    },
    {
     "data": {
      "text/plain": [
       "array([[3.90000000e+01, 1.00000000e+01, 3.00000000e+00, 1.70000000e+01,\n",
       "        2.44444444e+01, 1.00000000e+00, 5.00000000e+00, 4.00000000e-01,\n",
       "        2.65000000e+06, 1.37500000e+03, 2.10000000e+01, 2.00000000e+00],\n",
       "       [2.10000000e+01, 2.20000000e+01, 1.90000000e+01, 5.50000000e+01,\n",
       "        1.70454545e+01, 1.00000000e+00, 6.00000000e+00, 3.33333333e-01,\n",
       "        5.61400000e+06, 3.82500000e+03, 5.10000000e+01, 4.00000000e+00],\n",
       "       [5.00000000e+00, 6.00000000e+00, 1.00000000e+00, 6.00000000e+00,\n",
       "        8.40000000e+00, 0.00000000e+00, 1.00000000e+00, 1.00000000e+00,\n",
       "        8.57000000e+05, 1.15000000e+03, 1.40000000e+01, 1.00000000e+00],\n",
       "       [2.10000000e+01, 2.00000000e+00, 5.00000000e+00, 6.00000000e+00,\n",
       "        1.90000000e+01, 0.00000000e+00, 1.00000000e+00, 0.00000000e+00,\n",
       "        1.20000000e+05, 0.00000000e+00, 1.00000000e+00, 1.00000000e+00],\n",
       "       [4.00000000e+00, 5.00000000e+00, 1.00000000e+00, 5.00000000e+00,\n",
       "        9.60000000e+00, 0.00000000e+00, 1.00000000e+00, 1.00000000e+00,\n",
       "        8.57000000e+05, 1.07500000e+03, 1.20000000e+01, 1.00000000e+00]])"
      ]
     },
     "execution_count": 86,
     "metadata": {},
     "output_type": "execute_result"
    }
   ],
   "source": [
    "print(\"X shape: \", X.shape)\n",
    "X[:5]"
   ]
  },
  {
   "cell_type": "code",
   "execution_count": 87,
   "metadata": {},
   "outputs": [
    {
     "name": "stdout",
     "output_type": "stream",
     "text": [
      "y shape:  (25289,)\n"
     ]
    },
    {
     "data": {
      "text/plain": [
       "array([0, 1, 1, 1, 0], dtype=int64)"
      ]
     },
     "execution_count": 87,
     "metadata": {},
     "output_type": "execute_result"
    }
   ],
   "source": [
    "print(\"y shape: \", y.shape)\n",
    "y[:5]"
   ]
  },
  {
   "cell_type": "markdown",
   "metadata": {},
   "source": [
    "# Train / Test Split"
   ]
  },
  {
   "cell_type": "code",
   "execution_count": 88,
   "metadata": {},
   "outputs": [],
   "source": [
    "# import train_test_split function to split the sample\n",
    "from sklearn.model_selection import train_test_split\n",
    "\n",
    "X_train, X_test, y_train, y_test = train_test_split(X, y, \n",
    "                                                    test_size=0.5,    \n",
    "                                                    random_state=123) "
   ]
  },
  {
   "cell_type": "markdown",
   "metadata": {},
   "source": [
    "# Task 1 (5 points)\n",
    "\n",
    "Implement Random Forest classifier as it was described in your lectures:\n",
    "\n",
    "**Input**: \n",
    "* training dataset $TDS=\\{(x_{i},y_{i}),\\,1=1,2,...N\\}$; \n",
    "* the number of trees $B$ and the size of feature subsets $m$.\n",
    "\n",
    "for $b=1,2,...B$:\n",
    "\n",
    "1. generate random training dataset $TDS^{b}$ of size $N$ by sampling $(x_{i},y_{i})$ pairs from $TDS$ with replacement (bootstrap)\n",
    "2. build a tree using $TDS^{b}$ training dataset with feature selection for each node from random subset of features of size $m$ (generated **individually for each node**).\n",
    "\n",
    "\n",
    "**Output**: $B$ trees. Classification is done using majority vote and regression using averaging of $B$ outputs"
   ]
  },
  {
   "cell_type": "markdown",
   "metadata": {},
   "source": [
    "**Hints:**\n",
    "- Use decision tree classifier from sklean library. You can import it with the command: `from sklearn.tree import DecisionTreeClassifier` with `max_features` option. \n",
    "- You can use `numpy.random.choice()` function to generate random subsamples to train decition tree classifiers."
   ]
  },
  {
   "cell_type": "markdown",
   "metadata": {},
   "source": [
    "### Let' s start with small steps"
   ]
  },
  {
   "cell_type": "markdown",
   "metadata": {},
   "source": [
    "#### First step\n",
    "\n",
    "Implement auxiliary function that generates K random subsamples (with replacement) of X, y of size N"
   ]
  },
  {
   "cell_type": "code",
   "execution_count": 89,
   "metadata": {},
   "outputs": [],
   "source": [
    "def gen_subsamples(X, y, K, N):\n",
    "    \n",
    "    Xy = np.c_[X, y]\n",
    "    subsamples = []\n",
    "    \n",
    "    for k in range(K):\n",
    "        subsample_indeces = np.random.choice(a=range(len(X)), size=N, replace=True)\n",
    "        subsamples.append(Xy[subsample_indeces])\n",
    "    \n",
    "    return subsamples"
   ]
  },
  {
   "cell_type": "markdown",
   "metadata": {},
   "source": [
    "#### Second step\n",
    "\n",
    "Implement auxiliary function which gets a list of (X,y) with lengh K and fit K base_estimators. Each estimator fits from the corresponding sample. "
   ]
  },
  {
   "cell_type": "code",
   "execution_count": 90,
   "metadata": {},
   "outputs": [],
   "source": [
    "def fit_subsamples(subsamples, base_estimator):\n",
    "    \n",
    "    K = len(subsamples)\n",
    "    \n",
    "    base_estimators = []\n",
    "    \n",
    "    for k in range(K):\n",
    "        clf = base_estimator()\n",
    "        \n",
    "        k_sample = subsamples[k]\n",
    "        \n",
    "        X_sub = np.delete(k_sample, len(k_sample[0]) - 1, 1)\n",
    "        y_sub = k_sample[:, len(k_sample[0]) - 1]\n",
    "        \n",
    "        clf.fit(X_sub, y_sub)\n",
    "        base_estimators.append(base_estimator)\n",
    "    \n",
    "    return base_estimators"
   ]
  },
  {
   "cell_type": "code",
   "execution_count": 91,
   "metadata": {},
   "outputs": [
    {
     "name": "stdout",
     "output_type": "stream",
     "text": [
      "[[1.00e+00 2.00e+00 1.00e+00 2.00e+00 4.00e+00 0.00e+00 0.00e+00 0.00e+00\n",
      "  2.75e+05 5.00e+02 3.00e+00 1.00e+00 0.00e+00]\n",
      " [4.50e+01 2.00e+00 3.00e+00 6.00e+00 1.40e+01 0.00e+00 0.00e+00 0.00e+00\n",
      "  1.70e+05 2.50e+02 3.00e+00 1.00e+00 0.00e+00]\n",
      " [4.50e+01 2.00e+00 3.00e+00 6.00e+00 1.40e+01 0.00e+00 0.00e+00 0.00e+00\n",
      "  1.70e+05 2.50e+02 3.00e+00 1.00e+00 0.00e+00]]\n",
      "[[1.000e+00 2.000e+00 1.000e+00 2.000e+00 4.000e+00 0.000e+00 0.000e+00\n",
      "  0.000e+00 2.750e+05 5.000e+02 3.000e+00 1.000e+00 0.000e+00]\n",
      " [9.000e+00 1.000e+01 1.000e+00 1.000e+01 1.390e+01 0.000e+00 2.000e+00\n",
      "  1.000e+00 2.184e+06 1.875e+03 2.300e+01 1.000e+00 0.000e+00]\n",
      " [4.500e+01 2.000e+00 3.000e+00 6.000e+00 1.400e+01 0.000e+00 0.000e+00\n",
      "  0.000e+00 1.700e+05 2.500e+02 3.000e+00 1.000e+00 0.000e+00]]\n"
     ]
    },
    {
     "data": {
      "text/plain": [
       "[sklearn.tree.tree.DecisionTreeClassifier,\n",
       " sklearn.tree.tree.DecisionTreeClassifier]"
      ]
     },
     "execution_count": 91,
     "metadata": {},
     "output_type": "execute_result"
    }
   ],
   "source": [
    "from sklearn.tree import DecisionTreeClassifier\n",
    "\n",
    "X = X_train[0:5]\n",
    "y = y_train[0:5]\n",
    "\n",
    "\n",
    "subsamples = gen_subsamples(X, y, 2, 3)\n",
    "\n",
    "for s in subsamples:\n",
    "    print(s)\n",
    "\n",
    "fit_subsamples(subsamples, DecisionTreeClassifier)"
   ]
  },
  {
   "cell_type": "markdown",
   "metadata": {},
   "source": [
    "#### Example with multiprocessing"
   ]
  },
  {
   "cell_type": "code",
   "execution_count": 92,
   "metadata": {},
   "outputs": [],
   "source": [
    "def fit(params):    \n",
    "    from sklearn.tree import DecisionTreeClassifier\n",
    "    X, y, size = params\n",
    "    subsamples = gen_subsamples(X, y, size, X.shape[0])\n",
    "    return fit_subsamples(subsamples, DecisionTreeClassifier)"
   ]
  },
  {
   "cell_type": "code",
   "execution_count": 93,
   "metadata": {},
   "outputs": [],
   "source": [
    "import multiprocessing\n",
    "\n",
    "process_count = 4\n",
    "parts = [\n",
    "    (X, y, 1000 // process_count)\n",
    "    for i in range(process_count)\n",
    "]"
   ]
  },
  {
   "cell_type": "code",
   "execution_count": null,
   "metadata": {},
   "outputs": [],
   "source": [
    "with multiprocessing.Pool(process_count) as p:\n",
    "    # every part is sent to separate processes\n",
    "    clfs = p.map(fit, parts)"
   ]
  },
  {
   "cell_type": "markdown",
   "metadata": {},
   "source": [
    "### And now combine it all together in one class"
   ]
  },
  {
   "cell_type": "code",
   "execution_count": 198,
   "metadata": {},
   "outputs": [],
   "source": [
    "# You need to modify this class #\n",
    "\n",
    "class RandomForestCalssifier(object):\n",
    "    \n",
    "    def __init__(self, n_trees=10, n_subset_features=2): # you can add more hyperparameters\n",
    "        \"\"\"\n",
    "        This is your random forest classifier.\n",
    "        \n",
    "        Parameters\n",
    "        ----------\n",
    "        n_trees : int\n",
    "            Number of decision trees to train.\n",
    "        n_subset_features : int\n",
    "            Number of random features used to train a decision tree.\n",
    "        \"\"\"\n",
    "        \n",
    "        self.n_trees = n_trees\n",
    "        self.n_subset_features = n_subset_features\n",
    "        self.base_classifiers = []\n",
    "    \n",
    "    \n",
    "    def gen_subsamples(self, X, y, K, N):\n",
    "    \n",
    "        Xy = np.c_[X, y]\n",
    "        subsamples = []\n",
    "    \n",
    "        for k in range(K):\n",
    "            subsample_indeces = np.random.choice(a=range(len(X)), size=len(X), replace=True) #size=len(X)\n",
    "            subsamples.append(Xy[subsample_indeces])\n",
    "    \n",
    "        return subsamples\n",
    "    \n",
    "    \n",
    "    def fit_subsamples(self, subsamples, base_estimator):\n",
    "    \n",
    "        K = len(subsamples)\n",
    "    \n",
    "        base_estimators = []\n",
    "\n",
    "        for k in range(self.n_trees):\n",
    "            \n",
    "            clf = base_estimator(max_features=self.n_subset_features)\n",
    "            \n",
    "            k_sample = subsamples[k]\n",
    "        \n",
    "            X_sub = np.delete(k_sample, len(k_sample[0]) - 1, 1)\n",
    "            y_sub = k_sample[:, len(k_sample[0]) - 1]\n",
    "        \n",
    "            clf.fit(X_sub, y_sub)\n",
    "               \n",
    "            base_estimators.append(clf)\n",
    "    \n",
    "        return base_estimators\n",
    "    \n",
    "    \n",
    "    def fit(self, X, y):\n",
    "        \"\"\"\n",
    "        Fit the classifier.\n",
    "        \n",
    "        Parameters\n",
    "        ----------\n",
    "        X : numpy.array, shape = (n_objects, n_features)\n",
    "            Matrix of objects that are described by their input features.\n",
    "        y : numpy.array, shape = (n_objects)\n",
    "            1D array with the object labels. \n",
    "            For the classification labels are integers in {0, 1, 2, ...}.\n",
    "        \"\"\"\n",
    "        \n",
    "        from sklearn.tree import DecisionTreeClassifier\n",
    "        \n",
    "        subsamples = self.gen_subsamples(X, y, self.n_trees, self.n_subset_features)\n",
    "        \n",
    "        self.base_classifiers = self.fit_subsamples(subsamples, DecisionTreeClassifier)\n",
    "    \n",
    "    \n",
    "    def predict_proba(self, X):\n",
    "        \"\"\"\n",
    "        This methods performs probabilities prediction for new objects.\n",
    "        \n",
    "        Parameters\n",
    "        ----------\n",
    "        X : numpy.array, shape = (n_objects, n_features)\n",
    "            Matrix of objects that are described by their input features.\n",
    "            \n",
    "        Returns\n",
    "        -------\n",
    "        proba : numpy.array, shape = (n_objects, n_classes)\n",
    "            Array with predicted probabilities. \n",
    "        \"\"\"\n",
    "        \n",
    "        classifier_probas = []\n",
    "        \n",
    "        # For each base classifier\n",
    "        for i_clf in range(len(self.base_classifiers)):\n",
    "            \n",
    "            try:\n",
    "                # Try to predict probabilities\n",
    "                proba = self.base_classifiers[i_clf].predict_proba(X)\n",
    "            except:\n",
    "                continue\n",
    "            # Save the probabilities\n",
    "            classifier_probas.append(proba)\n",
    "        \n",
    "        # Convert to numpy.array\n",
    "        classifier_probas = np.array(classifier_probas)\n",
    "        \n",
    "        # Return mean probabilities\n",
    "        return classifier_probas.mean(axis=0)\n",
    "    \n",
    "    \n",
    "    def predict(self, X):\n",
    "        \"\"\"\n",
    "        This methods performs labels prediction for new objects.\n",
    "        \n",
    "        Parameters\n",
    "        ----------\n",
    "        X : numpy.array, shape = (n_objects, n_features)\n",
    "            Matrix of objects that are described by their input features.\n",
    "            \n",
    "        Returns\n",
    "        -------\n",
    "        labels : numpy.array, shape = (n_objects)\n",
    "            1D array with predicted labels. \n",
    "            For the classification labels are integers in {0, 1, 2, ...}.\n",
    "        \"\"\"\n",
    "        \n",
    "        classifier_predictions = []\n",
    "        \n",
    "        # For each base classifier\n",
    "        for i_clf in range(len(self.base_classifiers)):\n",
    "            \n",
    "            # Predict class labels\n",
    "            prediction = self.base_classifiers[i_clf].predict(X)\n",
    "            \n",
    "            # Save class labels\n",
    "            classifier_predictions.append(prediction)\n",
    "            \n",
    "        # Convert to numpy.array\n",
    "        classifier_predictions = np.array(classifier_predictions)\n",
    "        \n",
    "        # Estimate class labels\n",
    "        prediction = 1. * (classifier_predictions.mean(axis=0) >= 0.5)\n",
    "        \n",
    "        return prediction"
   ]
  },
  {
   "cell_type": "code",
   "execution_count": 199,
   "metadata": {},
   "outputs": [],
   "source": [
    "clf = RandomForestCalssifier(n_trees=10, n_subset_features=2)\n",
    "clf.fit(X_train, y_train)"
   ]
  },
  {
   "cell_type": "code",
   "execution_count": 200,
   "metadata": {},
   "outputs": [
    {
     "data": {
      "text/plain": [
       "array([0., 0., 1., 0., 0., 1., 1., 0., 0., 0.])"
      ]
     },
     "execution_count": 200,
     "metadata": {},
     "output_type": "execute_result"
    }
   ],
   "source": [
    "y_test_predict = clf.predict(X_test)\n",
    "\n",
    "y_test_predict[:10]"
   ]
  },
  {
   "cell_type": "code",
   "execution_count": 201,
   "metadata": {},
   "outputs": [
    {
     "name": "stdout",
     "output_type": "stream",
     "text": [
      "Test accuracy:  0.8018189007512851\n"
     ]
    }
   ],
   "source": [
    "from sklearn.metrics import accuracy_score\n",
    "accuracy_test = accuracy_score(y_test, y_test_predict)\n",
    "print(\"Test accuracy: \", accuracy_test)"
   ]
  },
  {
   "cell_type": "markdown",
   "metadata": {},
   "source": [
    "# Task 2 (1 point)\n",
    "\n",
    "Plot ROC curve on the test sample for your random forest classifier. Also, claculate ROC AUC value. Use `RandomForestClassifier.predict_proba()` method.\n",
    "\n",
    "Hints:\n",
    "- You can use `sklearn.metrics.roc_curve` frunction to calculate ROC curve.\n",
    "- `sklearn.metrics.roc_auc_score` function helps you to calculate ROC AUC value."
   ]
  },
  {
   "cell_type": "code",
   "execution_count": 202,
   "metadata": {},
   "outputs": [
    {
     "name": "stdout",
     "output_type": "stream",
     "text": [
      "RFC ROC AUC=0.843\n"
     ]
    },
    {
     "data": {
      "image/png": "[encoded data removed]",
      "text/plain": [
       "<Figure size 432x288 with 1 Axes>"
      ]
     },
     "metadata": {
      "needs_background": "light"
     },
     "output_type": "display_data"
    }
   ],
   "source": [
    "from sklearn.metrics import roc_auc_score, auc\n",
    "import matplotlib.pyplot as plt\n",
    "\n",
    "clf = RandomForestCalssifier(n_trees=10, n_subset_features=2)\n",
    "clf.fit(X_train, y_train)\n",
    "\n",
    "random_proba = [0 for _ in range(len(y_test))]\n",
    "\n",
    "proba = clf.predict_proba(X_test)\n",
    "\n",
    "proba = proba[:, 1]\n",
    "\n",
    "random_auc = roc_auc_score(y_test, random_proba)\n",
    "rfc_auc = roc_auc_score(y_test, proba)\n",
    "\n",
    "print('RFC ROC AUC=%.3f' % (rfc_auc))\n",
    "\n",
    "random_fpr, random_tpr, _ = roc_curve(y_test, random_proba)\n",
    "rfc_fpr, rfc_tpr, _ = roc_curve(y_test, proba)\n",
    "\n",
    "plt.plot(random_fpr, random_tpr, 'gray', linestyle='--')\n",
    "plt.plot(rfc_fpr, rfc_tpr, 'g', marker='.', label='Random Forest Classifier')\n",
    "\n",
    "plt.xlabel('False Positive Rate')\n",
    "plt.ylabel('True Positive Rate')\n",
    "\n",
    "plt.legend()\n",
    "\n",
    "plt.show()"
   ]
  },
  {
   "cell_type": "markdown",
   "metadata": {},
   "source": [
    "# Task 3 (2 points)\n",
    "\n",
    "Plot dependecy of ROC AUC value from number of trees (`n_trees`) in your random forest classifier."
   ]
  },
  {
   "cell_type": "code",
   "execution_count": 203,
   "metadata": {},
   "outputs": [
    {
     "data": {
      "text/plain": [
       "Text(0, 0.5, 'ROC AUC value')"
      ]
     },
     "execution_count": 203,
     "metadata": {},
     "output_type": "execute_result"
    },
    {
     "data": {
      "image/png": "[encoded data removed]",
      "text/plain": [
       "<Figure size 432x288 with 1 Axes>"
      ]
     },
     "metadata": {
      "needs_background": "light"
     },
     "output_type": "display_data"
    }
   ],
   "source": [
    "results = []\n",
    "n_trees = list(range(1, 10))\n",
    "\n",
    "for n in n_trees:\n",
    "    clf = RandomForestCalssifier(n_trees=n)\n",
    "    clf.fit(X_train, y_train)\n",
    "    proba = clf.predict_proba(X_test)\n",
    "    proba = proba[:, 1]\n",
    "    rfc_auc = roc_auc_score(y_test, proba)\n",
    "    results.append(rfc_auc)\n",
    "    \n",
    "line1, = plt.plot(n_trees, results, 'r', marker='.', label=\"ROC AUC value\")\n",
    "\n",
    "plt.xlabel('n_trees')\n",
    "plt.ylabel('ROC AUC value')"
   ]
  },
  {
   "cell_type": "markdown",
   "metadata": {},
   "source": [
    "# Task 4 (2 points)\n",
    "\n",
    "Plot dependecy of ROC AUC value from `n_subset_features` of your random forest classifier. Use `n_trees=100`."
   ]
  },
  {
   "cell_type": "code",
   "execution_count": 222,
   "metadata": {},
   "outputs": [
    {
     "data": {
      "text/plain": [
       "Text(0, 0.5, 'ROC AUC value')"
      ]
     },
     "execution_count": 222,
     "metadata": {},
     "output_type": "execute_result"
    },
    {
     "data": {
      "image/png": "[encoded data removed]",
      "text/plain": [
       "<Figure size 432x288 with 1 Axes>"
      ]
     },
     "metadata": {
      "needs_background": "light"
     },
     "output_type": "display_data"
    }
   ],
   "source": [
    "results = []\n",
    "n_subset_features = list(range(1, 13))\n",
    "\n",
    "for n in n_subset_features:\n",
    "    clf = RandomForestCalssifier(n_subset_features=n)\n",
    "    clf.fit(X_train, y_train)\n",
    "    proba = clf.predict_proba(X_test)\n",
    "    proba = proba[:, 1]\n",
    "    rfc_auc = roc_auc_score(y_test, proba)\n",
    "    results.append(rfc_auc)\n",
    "    \n",
    "line1, = plt.plot(n_subset_features, results, 'b', marker='.', label=\"ROC AUC value\")\n",
    "\n",
    "plt.xlabel('n_subset_features')\n",
    "plt.ylabel('ROC AUC value')"
   ]
  },
  {
   "cell_type": "code",
   "execution_count": null,
   "metadata": {},
   "outputs": [],
   "source": []
  }
 ],
 "metadata": {
  "kernelspec": {
   "display_name": "Python 3",
   "language": "python",
   "name": "python3"
  },
  "language_info": {
   "codemirror_mode": {
    "name": "ipython",
    "version": 3
   },
   "file_extension": ".py",
   "mimetype": "text/x-python",
   "name": "python",
   "nbconvert_exporter": "python",
   "pygments_lexer": "ipython3",
   "version": "3.7.4"
  }
 },
 "nbformat": 4,
 "nbformat_minor": 2
}
