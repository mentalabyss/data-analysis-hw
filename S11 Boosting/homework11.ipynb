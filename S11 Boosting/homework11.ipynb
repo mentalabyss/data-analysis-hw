{
 "cells": [
  {
   "cell_type": "code",
   "execution_count": 383,
   "metadata": {},
   "outputs": [],
   "source": [
    "%matplotlib inline\n",
    "\n",
    "import numpy as np\n",
    "import pandas as pd\n",
    "import matplotlib.pyplot as plt"
   ]
  },
  {
   "cell_type": "markdown",
   "metadata": {},
   "source": [
    "# Gradient Boosting"
   ]
  },
  {
   "cell_type": "markdown",
   "metadata": {},
   "source": [
    "## Read Data"
   ]
  },
  {
   "cell_type": "code",
   "execution_count": 384,
   "metadata": {},
   "outputs": [],
   "source": [
    "#data from here https://www.kaggle.com/c/boston-housing/overview\n",
    "df = pd.read_csv('https://raw.githubusercontent.com/shestakoff/hse_se_ml/master/2020/s11-boosting/data/boston_train.csv').drop(columns = 'ID')"
   ]
  },
  {
   "cell_type": "markdown",
   "metadata": {},
   "source": [
    " Prediction of house price in Boston.\n",
    " \n",
    " Why it's important? Because it can help people determine a fair price at home."
   ]
  },
  {
   "cell_type": "code",
   "execution_count": 385,
   "metadata": {},
   "outputs": [],
   "source": [
    "X = df.drop(columns = 'medv').values\n",
    "y = df['medv'].values"
   ]
  },
  {
   "cell_type": "code",
   "execution_count": 386,
   "metadata": {},
   "outputs": [
    {
     "data": {
      "text/plain": [
       "(333, 13)"
      ]
     },
     "execution_count": 386,
     "metadata": {},
     "output_type": "execute_result"
    }
   ],
   "source": [
    "X.shape"
   ]
  },
  {
   "cell_type": "markdown",
   "metadata": {},
   "source": [
    "## Before doing"
   ]
  },
  {
   "cell_type": "markdown",
   "metadata": {},
   "source": [
    "definition of huber_loss: https://en.wikipedia.org/wiki/Huber_loss"
   ]
  },
  {
   "cell_type": "markdown",
   "metadata": {},
   "source": [
    "Implement a function that calculates $z_i$ from gradient boosting algorithm (minus gradient of loss function). Implement for all possible loss functions (mse, hl, logloss)\n",
    "\n",
    "In hl use $\\delta = 1$, assume that $MSE = \\frac{1}{2}(r - y)^2$ and log_loss(sigmoid(r)) use $0$ and $1$ like class label"
   ]
  },
  {
   "cell_type": "code",
   "execution_count": 387,
   "metadata": {},
   "outputs": [],
   "source": [
    "def calc_objective(r, target, loss = 'mse'):\n",
    "    \"\"\"\n",
    "    Parameters\n",
    "        ----------\n",
    "        r : np.array\n",
    "            value of f(x)\n",
    "        target : np.array\n",
    "            target\n",
    "        loss : str\n",
    "            loss function. Possible values : mse, hl(https://en.wikipedia.org/wiki/Huber_loss, logloss(sigmoid(r))\n",
    "    \"\"\"\n",
    "    ret = []\n",
    "    delta = 1\n",
    "    \n",
    "    if(loss=='logloss'):\n",
    "        import math\n",
    "        \n",
    "        for i in range(r.shape[0]):\n",
    "            sig_r = 1 / (1 + math.exp(-r[i] * target[i]))\n",
    "            if(target[i] == 0):\n",
    "                ret.append(- 1 / (1 + math.exp(-r[i])))\n",
    "            else:\n",
    "                ans = (math.exp(-r[i] * target[i]) * target[i])\n",
    "                ret.append(ans * sig_r)\n",
    "        return ret\n",
    "    \n",
    "    for i in range(r.shape[0]):\n",
    "        if(abs(r[i] - target[i]) > delta and loss=='hl'):\n",
    "                l =  -(r[i] - target[i])/abs(r[i] - target[i])\n",
    "        else:\n",
    "            l = -(r[i] - target[i])\n",
    "        ret.append(l)\n",
    "    return ret\n",
    "\n",
    "    "
   ]
  },
  {
   "cell_type": "code",
   "execution_count": 388,
   "metadata": {},
   "outputs": [],
   "source": [
    "#test your code\n",
    "\n",
    "r = np.array([1, 2, 3, 4, 5])\n",
    "target = np.array([10, 9, 8, 7, 6])\n",
    "assert(np.allclose(calc_objective(r, target, 'mse'), np.array([9, 7, 5, 3, 1]), 0.00001))\n",
    "\n",
    "r = np.array([2, 4, 7, 9, 13])\n",
    "target = np.array([2.5, 6, 10, 6, 12.75])\n",
    "assert(np.allclose(calc_objective(r, target, 'hl'), np.array([0.5, 1, 1, -1, -0.25]), 0.00001))\n",
    "\n",
    "r = np.array([0, np.log(2), -np.log(9), np.log(4), np.log(19)])\n",
    "target = np.array([0, 1, 0, 1, 1])\n",
    "assert(np.allclose(calc_objective(r, target, 'logloss'), np.array([-0.5, 1. / 3, -0.1, 0.2, 0.05]), 0.00001))"
   ]
  },
  {
   "cell_type": "markdown",
   "metadata": {},
   "source": [
    "Implement function which make one step of gradient boossting (fit new estimator)"
   ]
  },
  {
   "cell_type": "code",
   "execution_count": 389,
   "metadata": {},
   "outputs": [],
   "source": [
    "def step(X, y, r, base_estimator, loss = 'mse'):\n",
    "    \"\"\"\n",
    "    Parameters\n",
    "        ----------\n",
    "        X : numpy.array, shape = (n_objects, n_features)\n",
    "            Matrix of objects that are described by their input features.\n",
    "        y : numpy.array, shape = (n_objects)\n",
    "            1D array with the target variables\n",
    "        r : np.array, shape = (n_ojects)\n",
    "            f_{m-1}(X) (X matrix of features) - prediction of previous m-1 base_estimators\n",
    "        base_estimator : estimator which you must fit\n",
    "            has got method fit\n",
    "        loss : str\n",
    "            loss function. Possible values : mse, hl, logloss\n",
    "            \n",
    "        Return fitted base_estimator\n",
    "    \"\"\"\n",
    "    \n",
    "    z = - calc_objective(r, y, loss)\n",
    "    \n",
    "    base_estimator.fit(X, z)\n",
    "    \n",
    "    return base_estimator"
   ]
  },
  {
   "cell_type": "markdown",
   "metadata": {},
   "source": [
    "## Now use your knowledge and implement gradient boosting"
   ]
  },
  {
   "cell_type": "markdown",
   "metadata": {},
   "source": [
    "# Task 1 (6 points)\n",
    "\n",
    "Implement GradientBoostingRegressor as it was described in your lectures:\n",
    "\n",
    "**Input**: training dataset $(x_{i},y_{i}),\\,i=1,2,...N$; loss function $\\mathcal{L}(f,y)$; learning rate $\\nu$ and the number $M$ of successive additive approximations.\n",
    "\n",
    "1. Fit initial approximation $f_{0}(x)$ (might be taken $f_{0}(x)\\equiv0$)\n",
    "2. For each step $m=1,2,...M$:\n",
    "\n",
    "    1. calculate derivatives $z_{i}=-\\frac{\\partial\\mathcal{L}(r,y_{i})}{\\partial r}|_{r=f^{m-1}(x_{i})}$\n",
    "    2. fit $h_{m}$ to $\\{(x_{i},z_{i})\\}_{i=1}^{N}$, for example by solving\n",
    "$$\n",
    "\\sum_{n=1}^{N}(h_{m}(x_{n})-z_{n})^{2}\\to\\min_{h_{m}}\n",
    "$$\n",
    "    4. set $f_{m}(x)=f_{m-1}(x)+\\nu h_{m}(x)$\n",
    "\n",
    "\n",
    "**Output**: approximation function $f_{M}(x)=f_{0}(x)+\\sum_{m=1}^{M}\\nu h_{m}(x)$\n",
    "\n",
    "Implement three loss functions:\n",
    "\n",
    "    1 MSE\n",
    "    2 Huber loss(https://en.wikipedia.org/wiki/Huber_loss)\n",
    "    3 log_loss (in this case we solve classification task\n",
    "In our case $h_m$ is DecisionTreeRegressor"
   ]
  },
  {
   "cell_type": "code",
   "execution_count": 390,
   "metadata": {},
   "outputs": [],
   "source": [
    "from sklearn.tree import DecisionTreeRegressor"
   ]
  },
  {
   "cell_type": "code",
   "execution_count": 391,
   "metadata": {},
   "outputs": [],
   "source": [
    "# You need to modify this class #\n",
    "\n",
    "class GradientBoostingEstimator(object):\n",
    "\n",
    "    def __init__(self, n_estimators, max_depth = 3, max_leaf_nodes = 8, n_subset_features = 5, random_state = 42,\n",
    "                 loss = 'mse', learning_rate=0.1):\n",
    "        \"\"\"\n",
    "        This is your random forest classifier.\n",
    "        \n",
    "        Parameters\n",
    "        ----------\n",
    "        n_estimators : int\n",
    "            Number of estimators to train.\n",
    "        max_depth : int\n",
    "            max_depth of DecisionTreeRegressor\n",
    "        max_leaf_nodes:\n",
    "            max_leaf_nodes of DecisionTreeRegressor\n",
    "        n_subset_features : int\n",
    "            Number of random features to used to train a decision tree\n",
    "        random_state : int\n",
    "            random_state for decision tree\n",
    "        loss : str\n",
    "            Loss. Possible values : mse, hl, logloss\n",
    "        learning_rate : float\n",
    "            learning_rate (coef for next estimator on each step)\n",
    "        \"\"\"\n",
    "        \n",
    "        self.n_estimators = n_estimators\n",
    "        \n",
    "        self.learning_rate = learning_rate\n",
    "        \n",
    "        self.max_depth = max_depth\n",
    "        self.max_leaf_nodes = max_leaf_nodes\n",
    "        self.n_subset_features = n_subset_features\n",
    "        self.random_state = random_state\n",
    "        \n",
    "        self.loss = loss\n",
    "        self.nu = learning_rate\n",
    "        \n",
    "        self.regressors = []\n",
    "    \n",
    "    \n",
    "    def calc_objective(self, r, target, loss = 'mse'):\n",
    "        \"\"\"\n",
    "    Parameters\n",
    "        ----------\n",
    "        r : np.array\n",
    "            value of f(x)\n",
    "        target : np.array\n",
    "            target\n",
    "        loss : str\n",
    "            loss function. Possible values : mse, hl(https://en.wikipedia.org/wiki/Huber_loss, logloss(sigmoid(r))\n",
    "        \"\"\"\n",
    "        ret = []\n",
    "        delta = 1\n",
    "    \n",
    "        if(loss=='logloss'):\n",
    "            import math\n",
    "        \n",
    "            for i in range(r.shape[0]):\n",
    "                sig_r = 1 / (1 + math.exp(-r[i] * target[i]))\n",
    "                if(target[i] == 0):\n",
    "                    ret.append(- 1 / (1 + math.exp(-r[i])))\n",
    "                else:\n",
    "                    ans = (math.exp(-r[i] * target[i]) * target[i])\n",
    "                    ret.append(ans * sig_r)\n",
    "            return ret\n",
    "    \n",
    "        for i in range(r.shape[0]):\n",
    "            if(abs(r[i] - target[i]) > delta and loss=='hl'):\n",
    "                l =  (r[i] - target[i])/abs(r[i] - target[i])\n",
    "            else:\n",
    "                l = -(r[i] - target[i])\n",
    "            ret.append(l)\n",
    "        return ret\n",
    "    \n",
    "    \n",
    "    def fit(self, X, y):\n",
    "        \"\"\"\n",
    "        Fit the classifier.\n",
    "        \n",
    "        Parameters\n",
    "        ----------\n",
    "        X : numpy.array, shape = (n_objects, n_features)\n",
    "            Matrix of objects that are described by their input features.\n",
    "        y : numpy.array, shape = (n_objects)\n",
    "            1D array with the object labels. \n",
    "            For the classification labels are integers in {0, 1, 2, ...}.\n",
    "        \"\"\"\n",
    "        #Initial f_{0}(X)\n",
    "        \n",
    "        self.r = np.zeros(X.shape[0], dtype=float)\n",
    "        \n",
    "        #1-M fittings\n",
    "        \n",
    "        for i in range(self.n_estimators):\n",
    "               \n",
    "            rgr = DecisionTreeRegressor(max_depth=self.max_depth, max_leaf_nodes=self.max_leaf_nodes, \n",
    "                                                 random_state = self.random_state)\n",
    "            \n",
    "            self.z = self.calc_objective(self.r, y, self.loss)\n",
    "            \n",
    "            rgr.fit(X, self.z)\n",
    "            \n",
    "            self.regressors.append(rgr)\n",
    "            \n",
    "            self.r = self.r + self.nu * rgr.predict(X)\n",
    "            \n",
    "            \n",
    "    def predict(self, X):\n",
    "        \"\"\"\n",
    "        This methods performs labels prediction for new objects.\n",
    "        \n",
    "        Parameters\n",
    "        ----------\n",
    "        X : numpy.array, shape = (n_objects, n_features)\n",
    "            Matrix of objects that are described by their input features.\n",
    "            \n",
    "        Returns\n",
    "        -------\n",
    "        labels : numpy.array, shape = (n_objects)\n",
    "            1D array with predicted labels. \n",
    "            For the classification labels are integers in {0, 1, 2, ...}.\n",
    "        \"\"\"\n",
    "        res = np.zeros(X.shape[0])\n",
    "        \n",
    "        for regressor in self.regressors:\n",
    "            res = res + self.nu * regressor.predict(X)\n",
    "            \n",
    "        return res\n",
    "        \n",
    "    def predict_proba(self, X):\n",
    "        \"\"\"\n",
    "        This methods performs probabilities prediction for new objects.\n",
    "        \n",
    "        Parameters\n",
    "        ----------\n",
    "        X : numpy.array, shape = (n_objects, n_features)\n",
    "            Matrix of objects that are described by their input features.\n",
    "            \n",
    "        Returns\n",
    "        -------\n",
    "        proba : numpy.array, shape = (n_objects, n_classes)\n",
    "            Array with predicted probabilities. \n",
    "        \"\"\"\n",
    "        \n",
    "        res = np.zeros(X.shape[0])\n",
    "        \n",
    "        for regressor in self.regressors:\n",
    "            res = res + self.nu * regressor.predict(X)\n",
    "            \n",
    "        res = 1/(1+np.exp(-res))\n",
    "            \n",
    "        return res"
   ]
  },
  {
   "cell_type": "markdown",
   "metadata": {},
   "source": [
    "### Important\n",
    "When you select `learning_rate` and `n_estimators`, follow the default values of the tree parameters"
   ]
  },
  {
   "cell_type": "markdown",
   "metadata": {},
   "source": [
    "# Task 2 (2 points)\n",
    "\n",
    "Split your data on train, valid sample (fix random_seed). Choose the best `learning_rate` and `n_estimators` for every loss (for logloss use data from previous HW). For regression task (mse_loss, huber_loss) use MSE on valid sample as quality measure to choose optimal params, for classification task (logloss) use ROC-AUC."
   ]
  },
  {
   "cell_type": "code",
   "execution_count": 392,
   "metadata": {},
   "outputs": [],
   "source": [
    "from sklearn.model_selection import train_test_split\n",
    "from sklearn.metrics import roc_auc_score, auc\n",
    "\n",
    "#data from here https://www.kaggle.com/c/boston-housing/overview\n",
    "df = pd.read_csv('https://raw.githubusercontent.com/shestakoff/hse_se_ml/master/2020/s11-boosting/data/boston_train.csv').drop(columns = 'ID')\n",
    "\n",
    "X = df.drop(columns = 'medv').values\n",
    "y = df['medv'].values\n",
    "\n",
    "X_train, X_test, y_train, y_test = train_test_split(X, y,\n",
    "test_size=0.5,\n",
    "random_state=123)\n",
    "\n",
    "results = []\n",
    "\n",
    "n_estimators = np.arange(100, 500, 50)\n",
    "\n",
    "learning_rate = [0.0001, 0.001, 0.01, 0.1, 0.2, 0.3]"
   ]
  },
  {
   "cell_type": "code",
   "execution_count": 393,
   "metadata": {},
   "outputs": [
    {
     "name": "stdout",
     "output_type": "stream",
     "text": [
      "min_mse =  2.7972277172892767e-06\n",
      "best_learning_rate =  0.1\n",
      "best_n_estimators =  450\n",
      "Wall time: 8.22 s\n"
     ]
    }
   ],
   "source": [
    "%%time\n",
    "\n",
    "min_mse = 1000000\n",
    "best_learning_rate = 0\n",
    "best_n_estimators = 0\n",
    "\n",
    "for lr in learning_rate:\n",
    "    for n in n_estimators:\n",
    "        clf = GradientBoostingEstimator(learning_rate=lr, n_estimators=n)\n",
    "        clf.fit(X_train, y_train)\n",
    "        proba = clf.predict(X_test)\n",
    "        mse = 1/y_test.shape[0] * (proba.mean() - y_test.mean())**2\n",
    "        if(mse < min_mse):\n",
    "            min_mse = mse\n",
    "            best_learning_rate=lr\n",
    "            best_n_estimators=n\n",
    "    \n",
    "print(\"min_mse = \", min_mse)\n",
    "print(\"best_learning_rate = \", best_learning_rate)\n",
    "print(\"best_n_estimators = \", n)"
   ]
  },
  {
   "cell_type": "code",
   "execution_count": 394,
   "metadata": {},
   "outputs": [
    {
     "name": "stdout",
     "output_type": "stream",
     "text": [
      "min_mse =  2.7972277172892767e-06\n",
      "best_learning_rate =  0.1\n",
      "best_n_estimators =  450\n",
      "Wall time: 5.99 s\n"
     ]
    }
   ],
   "source": [
    "%%time\n",
    "\n",
    "for lr in learning_rate:\n",
    "    for n in n_estimators:\n",
    "        clf = GradientBoostingEstimator(learning_rate=lr, n_estimators=n, loss='hl')\n",
    "        clf.fit(X_train, y_train)\n",
    "        proba = clf.predict(X_test)\n",
    "        mse = 1/y_test.shape[0] * (proba.mean() - y_test.mean())**2\n",
    "        if(mse < min_mse):\n",
    "            min_mse = mse\n",
    "            best_learning_rate=lr\n",
    "            best_n_estimators=n\n",
    "            \n",
    "print(\"min_mse = \", min_mse)\n",
    "print(\"best_learning_rate = \", best_learning_rate)\n",
    "print(\"best_n_estimators = \", n)"
   ]
  },
  {
   "cell_type": "code",
   "execution_count": 295,
   "metadata": {},
   "outputs": [
    {
     "name": "stdout",
     "output_type": "stream",
     "text": [
      "max_acc =  0.8775739710743772\n",
      "best_learning_rate =  0.1\n",
      "best_n_estimators =  300\n",
      "Wall time: 2min 52s\n"
     ]
    }
   ],
   "source": [
    "%%time\n",
    "\n",
    "df_X = pd.read_csv('x_train.csv', sep=';')\n",
    "df_y = pd.read_csv('y_train.csv', sep=';', header=None, names=['target'])\n",
    "\n",
    "X = df_X.values\n",
    "y = df_y['target'].values\n",
    "\n",
    "n_estimators = np.arange(100, 500, 100)\n",
    "\n",
    "learning_rate = [0.0001, 0.001, 0.01, 0.1]\n",
    "\n",
    "X_train, X_test, y_train, y_test = train_test_split(X, y,\n",
    "test_size=0.5,\n",
    "random_state=123)\n",
    "\n",
    "max_acc = 0\n",
    "best_learning_rate = 0\n",
    "best_n = 0\n",
    "\n",
    "for lr in learning_rate:\n",
    "    for n in n_estimators:\n",
    "        clf = GradientBoostingEstimator(learning_rate=lr, n_estimators=n, loss='logloss')\n",
    "        \n",
    "        clf.fit(X_train, y_train)\n",
    "        proba = clf.predict_proba(X_test)\n",
    "        \n",
    "        accuracy = roc_auc_score(y_test, proba)\n",
    "        \n",
    "        if(accuracy > max_acc):\n",
    "            max_acc = accuracy\n",
    "            best_learning_rate = lr\n",
    "            best_n = n\n",
    "            \n",
    "print(\"max_acc = \", max_acc)\n",
    "print(\"best_learning_rate = \", best_learning_rate)\n",
    "print(\"best_n_estimators = \", best_n)"
   ]
  },
  {
   "cell_type": "markdown",
   "metadata": {},
   "source": [
    "# Task 3 (1 point)\n",
    "Plot dependecy of loss value (in classification task plot roc-auc score) from `n_estimators` of your boosting. Use `learning_rate=0.1`."
   ]
  },
  {
   "cell_type": "code",
   "execution_count": 395,
   "metadata": {},
   "outputs": [],
   "source": [
    "#data from here https://www.kaggle.com/c/boston-housing/overview\n",
    "df = pd.read_csv('https://raw.githubusercontent.com/shestakoff/hse_se_ml/master/2020/s11-boosting/data/boston_train.csv').drop(columns = 'ID')\n",
    "\n",
    "X = df.drop(columns = 'medv').values\n",
    "y = df['medv'].values\n",
    "\n",
    "X_train, X_test, y_train, y_test = train_test_split(X, y,\n",
    "test_size=0.5,\n",
    "random_state=123)"
   ]
  },
  {
   "cell_type": "code",
   "execution_count": 396,
   "metadata": {},
   "outputs": [
    {
     "data": {
      "image/png": "[encoded data removed]",
      "text/plain": [
       "<Figure size 720x504 with 1 Axes>"
      ]
     },
     "metadata": {
      "needs_background": "light"
     },
     "output_type": "display_data"
    }
   ],
   "source": [
    "n_estimators = np.arange(10,500, 10)\n",
    "\n",
    "values = []\n",
    "\n",
    "for n in n_estimators:\n",
    "    clf = GradientBoostingEstimator(n_estimators=n, learning_rate= 0.1, loss = 'mse')\n",
    "    clf.fit(X_train,y_train)\n",
    "    y_pred = clf.predict(X_test)\n",
    "    mse = ((y_pred - y_test)**2)/y_pred.shape\n",
    "    values.append(mse.mean())\n",
    "    \n",
    "plt.figure(figsize=(10, 7))\n",
    "plt.plot(n_estimators, values, 'r')\n",
    "plt.xlabel('n_estimators')\n",
    "plt.ylabel('loss value')\n",
    "plt.show()"
   ]
  },
  {
   "cell_type": "code",
   "execution_count": 397,
   "metadata": {},
   "outputs": [
    {
     "data": {
      "image/png": "[encoded data removed]",
      "text/plain": [
       "<Figure size 720x504 with 1 Axes>"
      ]
     },
     "metadata": {
      "needs_background": "light"
     },
     "output_type": "display_data"
    }
   ],
   "source": [
    "n_estimators = np.arange(10,500, 50)\n",
    "\n",
    "values = []\n",
    "\n",
    "for n in n_estimators:\n",
    "    clf = GradientBoostingEstimator(n_estimators=n, learning_rate= 0.1, loss = 'hl')\n",
    "    clf.fit(X_train,y_train)\n",
    "    y_pred = clf.predict(X_test)\n",
    "    mse = ((y_pred - y_test)**2)/y_pred.shape\n",
    "    values.append(mse.mean())\n",
    "plt.figure(figsize=(10, 7))\n",
    "plt.plot(n_estimators, values, 'r')\n",
    "plt.xlabel('n_estimators')\n",
    "plt.ylabel('loss value')\n",
    "plt.show()"
   ]
  },
  {
   "cell_type": "code",
   "execution_count": 398,
   "metadata": {},
   "outputs": [],
   "source": [
    "df_X = pd.read_csv('x_train.csv', sep=';')\n",
    "df_y = pd.read_csv('y_train.csv', sep=';', header=None, names=['target'])\n",
    "\n",
    "X = df_X.values\n",
    "y = df_y['target'].values\n",
    "\n",
    "X_train, X_test, y_train, y_test = train_test_split(X, y,\n",
    "test_size=0.5,\n",
    "random_state=123)"
   ]
  },
  {
   "cell_type": "code",
   "execution_count": 322,
   "metadata": {},
   "outputs": [
    {
     "name": "stdout",
     "output_type": "stream",
     "text": [
      "4\n"
     ]
    },
    {
     "data": {
      "image/png": "[encoded data removed]",
      "text/plain": [
       "<Figure size 432x288 with 1 Axes>"
      ]
     },
     "metadata": {
      "needs_background": "light"
     },
     "output_type": "display_data"
    }
   ],
   "source": [
    "n_estimators = np.arange(100, 500, 100)\n",
    "\n",
    "res =[]\n",
    "\n",
    "for n in n_estimators:\n",
    "    clf = GradientBoostingEstimator(n_estimators=n, learning_rate=0.1, loss='logloss')\n",
    "    \n",
    "    clf.fit(X_train, y_train)\n",
    "    \n",
    "    proba = clf.predict_proba(X_test)\n",
    "    \n",
    "    rfc_auc = roc_auc_score(y_test, proba)\n",
    "    \n",
    "    res.append(rfc_auc)  \n",
    "    \n",
    "plt.plot(n_estimators, res, marker='.')\n",
    "\n",
    "plt.xlabel('n_estimators')\n",
    "plt.ylabel('roc_auc_score')\n",
    "\n",
    "plt.show()"
   ]
  },
  {
   "cell_type": "markdown",
   "metadata": {},
   "source": [
    "# Task 4 (1 point)\n",
    "Plot dependecy of loss value (in classification task plot roc-auc score) from `learning_rate` of your boosting. Use `n_estimators=100`."
   ]
  },
  {
   "cell_type": "code",
   "execution_count": 380,
   "metadata": {},
   "outputs": [],
   "source": [
    "#data from here https://www.kaggle.com/c/boston-housing/overview\n",
    "df = pd.read_csv('https://raw.githubusercontent.com/shestakoff/hse_se_ml/master/2020/s11-boosting/data/boston_train.csv').drop(columns = 'ID')\n",
    "\n",
    "X = df.drop(columns = 'medv').values\n",
    "y = df['medv'].values\n",
    "\n",
    "X_train, X_test, y_train, y_test = train_test_split(X, y,\n",
    "test_size=0.5,\n",
    "random_state=123)"
   ]
  },
  {
   "cell_type": "code",
   "execution_count": 381,
   "metadata": {},
   "outputs": [
    {
     "data": {
      "image/png": "[encoded data removed]",
      "text/plain": [
       "<Figure size 720x504 with 1 Axes>"
      ]
     },
     "metadata": {
      "needs_background": "light"
     },
     "output_type": "display_data"
    }
   ],
   "source": [
    "learning_rate = [0.0001, 0.001, 0.01, 0.1]\n",
    "\n",
    "scores = []\n",
    "\n",
    "for n in learning_rate:\n",
    "    clf = GradientBoostingEstimator(n_estimators=100, learning_rate=n, loss = 'mse')\n",
    "    clf.fit(X_train,y_train)\n",
    "    y_pred = clf.predict(X_test)\n",
    "    mse = ((y_pred - y_test)**2)/y_pred.shape\n",
    "    scores.append(mse.mean())\n",
    "    \n",
    "plt.figure(figsize=(10, 7))\n",
    "plt.plot(learning_rate, scores, 'r')\n",
    "plt.xlabel('learning_rate')\n",
    "plt.ylabel('loss value')\n",
    "plt.show()"
   ]
  },
  {
   "cell_type": "code",
   "execution_count": 382,
   "metadata": {},
   "outputs": [
    {
     "data": {
      "image/png": "[encoded data removed]",
      "text/plain": [
       "<Figure size 720x504 with 1 Axes>"
      ]
     },
     "metadata": {
      "needs_background": "light"
     },
     "output_type": "display_data"
    }
   ],
   "source": [
    "learning_rate = [0.0001, 0.001, 0.01, 0.1]\n",
    "\n",
    "scores = []\n",
    "\n",
    "for n in learning_rate:\n",
    "    clf = GradientBoostingEstimator(n_estimators=100, learning_rate=n, loss = 'hl')\n",
    "    clf.fit(X_train,y_train)\n",
    "    y_pred = clf.predict(X_test)\n",
    "    mse = ((y_pred - y_test)**2)/y_pred.shape\n",
    "    scores.append(mse.mean())\n",
    "    \n",
    "plt.figure(figsize=(10, 7))\n",
    "plt.plot(learning_rate, scores, 'r')\n",
    "plt.xlabel('learning_rate')\n",
    "plt.ylabel('loss value')\n",
    "plt.show()"
   ]
  },
  {
   "cell_type": "code",
   "execution_count": 379,
   "metadata": {},
   "outputs": [],
   "source": [
    "df_X = pd.read_csv('x_train.csv', sep=';')\n",
    "df_y = pd.read_csv('y_train.csv', sep=';', header=None, names=['target'])\n",
    "\n",
    "X = df_X.values\n",
    "y = df_y['target'].values\n",
    "\n",
    "X_train, X_test, y_train, y_test = train_test_split(X, y,\n",
    "test_size=0.5,\n",
    "random_state=123)"
   ]
  },
  {
   "cell_type": "code",
   "execution_count": 364,
   "metadata": {},
   "outputs": [
    {
     "data": {
      "image/png": "[encoded data removed]",
      "text/plain": [
       "<Figure size 432x288 with 1 Axes>"
      ]
     },
     "metadata": {
      "needs_background": "light"
     },
     "output_type": "display_data"
    }
   ],
   "source": [
    "learning_rate = [0.0001, 0.001, 0.01, 0.1]\n",
    "\n",
    "res =[]\n",
    "\n",
    "for n in learning_rate:\n",
    "    clf = GradientBoostingEstimator(n_estimators=100, learning_rate=n, loss='logloss')\n",
    "    \n",
    "    clf.fit(X_train, y_train)\n",
    "    \n",
    "    proba = clf.predict_proba(X_test)\n",
    "    \n",
    "    rfc_auc = roc_auc_score(y_test, proba)\n",
    "    \n",
    "    res.append(rfc_auc)\n",
    "\n",
    "plt.plot(learning_rate, res, marker='.')\n",
    "\n",
    "plt.xlabel('learning_rate')\n",
    "plt.ylabel('roc_auc_score')\n",
    "\n",
    "plt.show()"
   ]
  },
  {
   "cell_type": "code",
   "execution_count": null,
   "metadata": {},
   "outputs": [],
   "source": []
  }
 ],
 "metadata": {
  "kernelspec": {
   "display_name": "Python 3",
   "language": "python",
   "name": "python3"
  },
  "language_info": {
   "codemirror_mode": {
    "name": "ipython",
    "version": 3
   },
   "file_extension": ".py",
   "mimetype": "text/x-python",
   "name": "python",
   "nbconvert_exporter": "python",
   "pygments_lexer": "ipython3",
   "version": "3.7.4"
  }
 },
 "nbformat": 4,
 "nbformat_minor": 2
}
