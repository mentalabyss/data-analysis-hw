{
 "cells": [
  {
   "cell_type": "code",
   "execution_count": 1,
   "metadata": {},
   "outputs": [],
   "source": [
    "import numpy as np\n",
    "import pandas as pd\n",
    "from sklearn.metrics import f1_score\n",
    "from sklearn.feature_extraction.text import CountVectorizer\n",
    "from sklearn.tree import DecisionTreeClassifier\n",
    "from sklearn.model_selection import KFold\n",
    "from sklearn.metrics import accuracy_score\n",
    "from sklearn.linear_model import LogisticRegression"
   ]
  },
  {
   "cell_type": "code",
   "execution_count": 2,
   "metadata": {},
   "outputs": [],
   "source": [
    "train_df = pd.read_csv(\"train.csv\")"
   ]
  },
  {
   "cell_type": "code",
   "execution_count": 3,
   "metadata": {},
   "outputs": [],
   "source": [
    "test_df = pd.read_csv(\"test.csv\")"
   ]
  },
  {
   "cell_type": "code",
   "execution_count": 4,
   "metadata": {},
   "outputs": [],
   "source": [
    "X_train = train_df[\"title\"].values\n",
    "X_test = test_df[\"title\"].values\n",
    "y_train = train_df[\"target\"].astype(int).values"
   ]
  },
  {
   "cell_type": "code",
   "execution_count": 5,
   "metadata": {},
   "outputs": [],
   "source": [
    "vectorizer = CountVectorizer()"
   ]
  },
  {
   "cell_type": "code",
   "execution_count": 6,
   "metadata": {},
   "outputs": [],
   "source": [
    "X_train_vectorized = vectorizer.fit_transform(X_train)"
   ]
  },
  {
   "cell_type": "code",
   "execution_count": 7,
   "metadata": {},
   "outputs": [],
   "source": [
    "kf = KFold(n_splits=5,shuffle=False)\n",
    "kf.split(X_train_vectorized)\n",
    "\n",
    "X_train_base=[]\n",
    "X_test_base=[]\n",
    "Y_train_base=[]\n",
    "Y_test_base=[]\n",
    "\n",
    "for train_index, test_index in kf.split(X_train_vectorized):\n",
    "    X_train_f, X_test_f = X_train_vectorized[train_index], X_train_vectorized[test_index]\n",
    "    Y_train_f, Y_test_f = y_train[train_index], y_train[test_index]\n",
    "    X_train_base.append(X_train_f)\n",
    "    X_test_base.append(X_test_f)\n",
    "    Y_train_base.append(Y_train_f)\n",
    "    Y_test_base.append(Y_test_f)"
   ]
  },
  {
   "cell_type": "code",
   "execution_count": 8,
   "metadata": {},
   "outputs": [],
   "source": [
    "accuracy_models = []\n",
    "\n",
    "C_s = np.logspace(-3,3,7)\n",
    "\n",
    "penalties = ['l1', 'l2']"
   ]
  },
  {
   "cell_type": "code",
   "execution_count": 9,
   "metadata": {},
   "outputs": [
    {
     "name": "stdout",
     "output_type": "stream",
     "text": [
      "Score:  93.07146552361245 C =  0.001  penalty =  l1\n",
      "Score:  91.41600768605424 C =  0.001  penalty =  l2\n",
      "Score:  95.96482152095189 C =  0.01  penalty =  l1\n",
      "Score:  95.6950705786712 C =  0.01  penalty =  l2\n",
      "Score:  97.7311359101323 C =  0.1  penalty =  l1\n",
      "Score:  97.7902594043308 C =  0.1  penalty =  l2\n",
      "Score:  98.63646441504693 C =  1.0  penalty =  l1\n",
      "Score:  98.6179883231099 C =  1.0  penalty =  l2\n",
      "Score:  98.66972138053359 C =  10.0  penalty =  l1\n",
      "Score:  98.80274924248023 C =  10.0  penalty =  l2\n",
      "Score:  98.54038873697436 C =  100.0  penalty =  l1\n",
      "Score:  98.75471140344393 C =  100.0  penalty =  l2\n",
      "Score:  98.46278915083882 C =  1000.0  penalty =  l1\n",
      "Score:  98.68819747247062 C =  1000.0  penalty =  l2\n",
      "Wall time: 11.8 s\n"
     ]
    },
    {
     "data": {
      "text/plain": [
       "('Best score: ', 98.80274924248023, 'C = ', 10.0, ' penalty = ', 'l2')"
      ]
     },
     "execution_count": 9,
     "metadata": {},
     "output_type": "execute_result"
    }
   ],
   "source": [
    "%%time\n",
    "\n",
    "max_score = 0\n",
    "\n",
    "for c in C_s:\n",
    "    for penalty in penalties:\n",
    "        accuracy_model = []\n",
    "        logreg = LogisticRegression(C=c, penalty=penalty, solver='liblinear')      \n",
    "        # Train the model\n",
    "        model = logreg.fit(X_train_base[0], Y_train_base[0])\n",
    "        # Append to accuracy_model the accuracy of the model\n",
    "        accuracy_model.append(accuracy_score(Y_test_base[0], model.predict(X_test_base[0]), normalize=True)*100)\n",
    "        \n",
    "        print(\"Score: \", accuracy_score(Y_test_base[0], model.predict(X_test_base[0]), normalize=True)*100, \"C = \", c, \" penalty = \", penalty)\n",
    "        \n",
    "        if(accuracy_score(Y_test_base[0], model.predict(X_test_base[0]), normalize=True)*100 > max_score):\n",
    "            max_score = accuracy_score(Y_test_base[0], model.predict(X_test_base[0]), normalize=True)*100\n",
    "            best_score_string = \"Best score: \", accuracy_score(Y_test_base[0], model.predict(X_test_base[0]), normalize=True)*100, \"C = \", c, \" penalty = \", penalty\n",
    "        \n",
    "    accuracy_models.append(accuracy_model)\n",
    "\n",
    "best_score_string"
   ]
  },
  {
   "cell_type": "code",
   "execution_count": 10,
   "metadata": {},
   "outputs": [],
   "source": [
    "logreg_tuned = LogisticRegression(C=10, penalty='l2', solver='liblinear')\n",
    "logreg_tuned.fit(X_train_vectorized, y_train)\n",
    "y_pred = logreg_tuned.predict(X_train_vectorized)"
   ]
  },
  {
   "cell_type": "code",
   "execution_count": 11,
   "metadata": {},
   "outputs": [
    {
     "data": {
      "text/plain": [
       "0.9931042789605228"
      ]
     },
     "execution_count": 11,
     "metadata": {},
     "output_type": "execute_result"
    }
   ],
   "source": [
    "f1_score(y_train, y_pred)"
   ]
  },
  {
   "cell_type": "code",
   "execution_count": 12,
   "metadata": {},
   "outputs": [],
   "source": [
    "X_test_vectorized = vectorizer.transform(X_test)\n",
    "\n",
    "test_df[\"target\"] = logreg_tuned.predict(X_test_vectorized).astype(bool)\n",
    "\n",
    "test_df[[\"id\", \"target\"]].to_csv(\"ml_baseline.csv\", index=False)"
   ]
  },
  {
   "cell_type": "code",
   "execution_count": null,
   "metadata": {},
   "outputs": [],
   "source": []
  }
 ],
 "metadata": {
  "kernelspec": {
   "display_name": "Python 3",
   "language": "python",
   "name": "python3"
  },
  "language_info": {
   "codemirror_mode": {
    "name": "ipython",
    "version": 3
   },
   "file_extension": ".py",
   "mimetype": "text/x-python",
   "name": "python",
   "nbconvert_exporter": "python",
   "pygments_lexer": "ipython3",
   "version": "3.7.4"
  }
 },
 "nbformat": 4,
 "nbformat_minor": 2
}
